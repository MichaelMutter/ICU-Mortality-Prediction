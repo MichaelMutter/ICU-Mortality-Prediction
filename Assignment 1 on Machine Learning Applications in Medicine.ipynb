{
 "cells": [
  {
   "cell_type": "code",
   "execution_count": 1,
   "id": "31f157e5-581e-4e40-9300-7bb4d1187391",
   "metadata": {},
   "outputs": [],
   "source": [
    "import warnings\n",
    "warnings.filterwarnings('ignore')\n",
    "import numpy as np\n",
    "import matplotlib.pyplot as plt\n",
    "import pandas as pd\n",
    "import seaborn as sns\n",
    "from datetime import datetime, timedelta\n",
    "from scipy import stats\n",
    "from scipy.stats import ttest_ind, shapiro, levene, mannwhitneyu\n",
    "from scipy.stats import fisher_exact\n",
    "from scipy.stats import chi2_contingency"
   ]
  },
  {
   "cell_type": "code",
   "execution_count": 2,
   "id": "6868c9d9-656e-40a8-85a7-6b4725ae73bf",
   "metadata": {},
   "outputs": [],
   "source": [
    "patients = pd.read_csv('PATIENTS.csv')\n",
    "icu_stays = pd.read_csv('ICUSTAYS.csv')\n",
    "admissions = pd.read_csv('ADMISSIONS.csv')\n",
    "labevents = pd.read_csv(\"LABEVENTS.csv\") \n",
    "diagnoses = pd.read_csv(\"DIAGNOSES_ICD.csv\")"
   ]
  },
  {
   "cell_type": "code",
   "execution_count": 3,
   "id": "ff03c916-4520-4463-8d59-fcbfd3faef8d",
   "metadata": {},
   "outputs": [
    {
     "data": {
      "text/html": [
       "<div>\n",
       "<style scoped>\n",
       "    .dataframe tbody tr th:only-of-type {\n",
       "        vertical-align: middle;\n",
       "    }\n",
       "\n",
       "    .dataframe tbody tr th {\n",
       "        vertical-align: top;\n",
       "    }\n",
       "\n",
       "    .dataframe thead th {\n",
       "        text-align: right;\n",
       "    }\n",
       "</style>\n",
       "<table border=\"1\" class=\"dataframe\">\n",
       "  <thead>\n",
       "    <tr style=\"text-align: right;\">\n",
       "      <th></th>\n",
       "      <th>row_id</th>\n",
       "      <th>subject_id</th>\n",
       "      <th>gender</th>\n",
       "      <th>dob</th>\n",
       "      <th>dod</th>\n",
       "      <th>dod_hosp</th>\n",
       "      <th>dod_ssn</th>\n",
       "      <th>expire_flag</th>\n",
       "    </tr>\n",
       "  </thead>\n",
       "  <tbody>\n",
       "    <tr>\n",
       "      <th>0</th>\n",
       "      <td>9467</td>\n",
       "      <td>10006</td>\n",
       "      <td>F</td>\n",
       "      <td>2094-03-05 00:00:00</td>\n",
       "      <td>2165-08-12 00:00:00</td>\n",
       "      <td>2165-08-12 00:00:00</td>\n",
       "      <td>2165-08-12 00:00:00</td>\n",
       "      <td>1</td>\n",
       "    </tr>\n",
       "    <tr>\n",
       "      <th>1</th>\n",
       "      <td>9472</td>\n",
       "      <td>10011</td>\n",
       "      <td>F</td>\n",
       "      <td>2090-06-05 00:00:00</td>\n",
       "      <td>2126-08-28 00:00:00</td>\n",
       "      <td>2126-08-28 00:00:00</td>\n",
       "      <td>NaN</td>\n",
       "      <td>1</td>\n",
       "    </tr>\n",
       "  </tbody>\n",
       "</table>\n",
       "</div>"
      ],
      "text/plain": [
       "   row_id  subject_id gender                  dob                  dod  \\\n",
       "0    9467       10006      F  2094-03-05 00:00:00  2165-08-12 00:00:00   \n",
       "1    9472       10011      F  2090-06-05 00:00:00  2126-08-28 00:00:00   \n",
       "\n",
       "              dod_hosp              dod_ssn  expire_flag  \n",
       "0  2165-08-12 00:00:00  2165-08-12 00:00:00            1  \n",
       "1  2126-08-28 00:00:00                  NaN            1  "
      ]
     },
     "execution_count": 3,
     "metadata": {},
     "output_type": "execute_result"
    }
   ],
   "source": [
    "patients.head(2)"
   ]
  },
  {
   "cell_type": "code",
   "execution_count": 4,
   "id": "7f849d47-b28d-4ea9-9d76-8a8b9e4f242a",
   "metadata": {},
   "outputs": [
    {
     "name": "stdout",
     "output_type": "stream",
     "text": [
      "(136, 12)\n"
     ]
    },
    {
     "data": {
      "text/html": [
       "<div>\n",
       "<style scoped>\n",
       "    .dataframe tbody tr th:only-of-type {\n",
       "        vertical-align: middle;\n",
       "    }\n",
       "\n",
       "    .dataframe tbody tr th {\n",
       "        vertical-align: top;\n",
       "    }\n",
       "\n",
       "    .dataframe thead th {\n",
       "        text-align: right;\n",
       "    }\n",
       "</style>\n",
       "<table border=\"1\" class=\"dataframe\">\n",
       "  <thead>\n",
       "    <tr style=\"text-align: right;\">\n",
       "      <th></th>\n",
       "      <th>row_id</th>\n",
       "      <th>subject_id</th>\n",
       "      <th>hadm_id</th>\n",
       "      <th>icustay_id</th>\n",
       "      <th>dbsource</th>\n",
       "      <th>first_careunit</th>\n",
       "      <th>last_careunit</th>\n",
       "      <th>first_wardid</th>\n",
       "      <th>last_wardid</th>\n",
       "      <th>intime</th>\n",
       "      <th>outtime</th>\n",
       "      <th>los</th>\n",
       "    </tr>\n",
       "  </thead>\n",
       "  <tbody>\n",
       "    <tr>\n",
       "      <th>0</th>\n",
       "      <td>12742</td>\n",
       "      <td>10006</td>\n",
       "      <td>142345</td>\n",
       "      <td>206504</td>\n",
       "      <td>carevue</td>\n",
       "      <td>MICU</td>\n",
       "      <td>MICU</td>\n",
       "      <td>52</td>\n",
       "      <td>52</td>\n",
       "      <td>2164-10-23 21:10:15</td>\n",
       "      <td>2164-10-25 12:21:07</td>\n",
       "      <td>1.6325</td>\n",
       "    </tr>\n",
       "    <tr>\n",
       "      <th>1</th>\n",
       "      <td>12747</td>\n",
       "      <td>10011</td>\n",
       "      <td>105331</td>\n",
       "      <td>232110</td>\n",
       "      <td>carevue</td>\n",
       "      <td>MICU</td>\n",
       "      <td>MICU</td>\n",
       "      <td>15</td>\n",
       "      <td>15</td>\n",
       "      <td>2126-08-14 22:34:00</td>\n",
       "      <td>2126-08-28 18:59:00</td>\n",
       "      <td>13.8507</td>\n",
       "    </tr>\n",
       "  </tbody>\n",
       "</table>\n",
       "</div>"
      ],
      "text/plain": [
       "   row_id  subject_id  hadm_id  icustay_id dbsource first_careunit  \\\n",
       "0   12742       10006   142345      206504  carevue           MICU   \n",
       "1   12747       10011   105331      232110  carevue           MICU   \n",
       "\n",
       "  last_careunit  first_wardid  last_wardid               intime  \\\n",
       "0          MICU            52           52  2164-10-23 21:10:15   \n",
       "1          MICU            15           15  2126-08-14 22:34:00   \n",
       "\n",
       "               outtime      los  \n",
       "0  2164-10-25 12:21:07   1.6325  \n",
       "1  2126-08-28 18:59:00  13.8507  "
      ]
     },
     "execution_count": 4,
     "metadata": {},
     "output_type": "execute_result"
    }
   ],
   "source": [
    "print(icu_stays.shape)\n",
    "icu_stays.head(2)"
   ]
  },
  {
   "cell_type": "code",
   "execution_count": 5,
   "id": "d1940c3c-7e9b-48e2-871a-68074d724954",
   "metadata": {},
   "outputs": [
    {
     "name": "stdout",
     "output_type": "stream",
     "text": [
      "(129, 19)\n"
     ]
    },
    {
     "data": {
      "text/html": [
       "<div>\n",
       "<style scoped>\n",
       "    .dataframe tbody tr th:only-of-type {\n",
       "        vertical-align: middle;\n",
       "    }\n",
       "\n",
       "    .dataframe tbody tr th {\n",
       "        vertical-align: top;\n",
       "    }\n",
       "\n",
       "    .dataframe thead th {\n",
       "        text-align: right;\n",
       "    }\n",
       "</style>\n",
       "<table border=\"1\" class=\"dataframe\">\n",
       "  <thead>\n",
       "    <tr style=\"text-align: right;\">\n",
       "      <th></th>\n",
       "      <th>row_id</th>\n",
       "      <th>subject_id</th>\n",
       "      <th>hadm_id</th>\n",
       "      <th>admittime</th>\n",
       "      <th>dischtime</th>\n",
       "      <th>deathtime</th>\n",
       "      <th>admission_type</th>\n",
       "      <th>admission_location</th>\n",
       "      <th>discharge_location</th>\n",
       "      <th>insurance</th>\n",
       "      <th>language</th>\n",
       "      <th>religion</th>\n",
       "      <th>marital_status</th>\n",
       "      <th>ethnicity</th>\n",
       "      <th>edregtime</th>\n",
       "      <th>edouttime</th>\n",
       "      <th>diagnosis</th>\n",
       "      <th>hospital_expire_flag</th>\n",
       "      <th>has_chartevents_data</th>\n",
       "    </tr>\n",
       "  </thead>\n",
       "  <tbody>\n",
       "    <tr>\n",
       "      <th>0</th>\n",
       "      <td>12258</td>\n",
       "      <td>10006</td>\n",
       "      <td>142345</td>\n",
       "      <td>2164-10-23 21:09:00</td>\n",
       "      <td>2164-11-01 17:15:00</td>\n",
       "      <td>NaN</td>\n",
       "      <td>EMERGENCY</td>\n",
       "      <td>EMERGENCY ROOM ADMIT</td>\n",
       "      <td>HOME HEALTH CARE</td>\n",
       "      <td>Medicare</td>\n",
       "      <td>NaN</td>\n",
       "      <td>CATHOLIC</td>\n",
       "      <td>SEPARATED</td>\n",
       "      <td>BLACK/AFRICAN AMERICAN</td>\n",
       "      <td>2164-10-23 16:43:00</td>\n",
       "      <td>2164-10-23 23:00:00</td>\n",
       "      <td>SEPSIS</td>\n",
       "      <td>0</td>\n",
       "      <td>1</td>\n",
       "    </tr>\n",
       "    <tr>\n",
       "      <th>1</th>\n",
       "      <td>12263</td>\n",
       "      <td>10011</td>\n",
       "      <td>105331</td>\n",
       "      <td>2126-08-14 22:32:00</td>\n",
       "      <td>2126-08-28 18:59:00</td>\n",
       "      <td>2126-08-28 18:59:00</td>\n",
       "      <td>EMERGENCY</td>\n",
       "      <td>TRANSFER FROM HOSP/EXTRAM</td>\n",
       "      <td>DEAD/EXPIRED</td>\n",
       "      <td>Private</td>\n",
       "      <td>NaN</td>\n",
       "      <td>CATHOLIC</td>\n",
       "      <td>SINGLE</td>\n",
       "      <td>UNKNOWN/NOT SPECIFIED</td>\n",
       "      <td>NaN</td>\n",
       "      <td>NaN</td>\n",
       "      <td>HEPATITIS B</td>\n",
       "      <td>1</td>\n",
       "      <td>1</td>\n",
       "    </tr>\n",
       "  </tbody>\n",
       "</table>\n",
       "</div>"
      ],
      "text/plain": [
       "   row_id  subject_id  hadm_id            admittime            dischtime  \\\n",
       "0   12258       10006   142345  2164-10-23 21:09:00  2164-11-01 17:15:00   \n",
       "1   12263       10011   105331  2126-08-14 22:32:00  2126-08-28 18:59:00   \n",
       "\n",
       "             deathtime admission_type         admission_location  \\\n",
       "0                  NaN      EMERGENCY       EMERGENCY ROOM ADMIT   \n",
       "1  2126-08-28 18:59:00      EMERGENCY  TRANSFER FROM HOSP/EXTRAM   \n",
       "\n",
       "  discharge_location insurance language  religion marital_status  \\\n",
       "0   HOME HEALTH CARE  Medicare      NaN  CATHOLIC      SEPARATED   \n",
       "1       DEAD/EXPIRED   Private      NaN  CATHOLIC         SINGLE   \n",
       "\n",
       "                ethnicity            edregtime            edouttime  \\\n",
       "0  BLACK/AFRICAN AMERICAN  2164-10-23 16:43:00  2164-10-23 23:00:00   \n",
       "1   UNKNOWN/NOT SPECIFIED                  NaN                  NaN   \n",
       "\n",
       "     diagnosis  hospital_expire_flag  has_chartevents_data  \n",
       "0       SEPSIS                     0                     1  \n",
       "1  HEPATITIS B                     1                     1  "
      ]
     },
     "execution_count": 5,
     "metadata": {},
     "output_type": "execute_result"
    }
   ],
   "source": [
    "print(admissions.shape)\n",
    "admissions.head(2)"
   ]
  },
  {
   "cell_type": "code",
   "execution_count": 6,
   "id": "a845329a-6161-4984-8ffc-f5bf8ad883c6",
   "metadata": {},
   "outputs": [
    {
     "name": "stdout",
     "output_type": "stream",
     "text": [
      "(76074, 9)\n"
     ]
    },
    {
     "data": {
      "text/html": [
       "<div>\n",
       "<style scoped>\n",
       "    .dataframe tbody tr th:only-of-type {\n",
       "        vertical-align: middle;\n",
       "    }\n",
       "\n",
       "    .dataframe tbody tr th {\n",
       "        vertical-align: top;\n",
       "    }\n",
       "\n",
       "    .dataframe thead th {\n",
       "        text-align: right;\n",
       "    }\n",
       "</style>\n",
       "<table border=\"1\" class=\"dataframe\">\n",
       "  <thead>\n",
       "    <tr style=\"text-align: right;\">\n",
       "      <th></th>\n",
       "      <th>row_id</th>\n",
       "      <th>subject_id</th>\n",
       "      <th>hadm_id</th>\n",
       "      <th>itemid</th>\n",
       "      <th>charttime</th>\n",
       "      <th>value</th>\n",
       "      <th>valuenum</th>\n",
       "      <th>valueuom</th>\n",
       "      <th>flag</th>\n",
       "    </tr>\n",
       "  </thead>\n",
       "  <tbody>\n",
       "    <tr>\n",
       "      <th>0</th>\n",
       "      <td>6244563</td>\n",
       "      <td>10006</td>\n",
       "      <td>NaN</td>\n",
       "      <td>50868</td>\n",
       "      <td>2164-09-24 20:21:00</td>\n",
       "      <td>19</td>\n",
       "      <td>19.0</td>\n",
       "      <td>mEq/L</td>\n",
       "      <td>NaN</td>\n",
       "    </tr>\n",
       "    <tr>\n",
       "      <th>1</th>\n",
       "      <td>6244564</td>\n",
       "      <td>10006</td>\n",
       "      <td>NaN</td>\n",
       "      <td>50882</td>\n",
       "      <td>2164-09-24 20:21:00</td>\n",
       "      <td>27</td>\n",
       "      <td>27.0</td>\n",
       "      <td>mEq/L</td>\n",
       "      <td>NaN</td>\n",
       "    </tr>\n",
       "  </tbody>\n",
       "</table>\n",
       "</div>"
      ],
      "text/plain": [
       "    row_id  subject_id  hadm_id  itemid            charttime value  valuenum  \\\n",
       "0  6244563       10006      NaN   50868  2164-09-24 20:21:00    19      19.0   \n",
       "1  6244564       10006      NaN   50882  2164-09-24 20:21:00    27      27.0   \n",
       "\n",
       "  valueuom flag  \n",
       "0    mEq/L  NaN  \n",
       "1    mEq/L  NaN  "
      ]
     },
     "execution_count": 6,
     "metadata": {},
     "output_type": "execute_result"
    }
   ],
   "source": [
    "print(labevents.shape)\n",
    "labevents.head(2)"
   ]
  },
  {
   "cell_type": "code",
   "execution_count": 7,
   "id": "80a36408-41b7-4b34-8501-5a02aac9bde3",
   "metadata": {},
   "outputs": [
    {
     "name": "stdout",
     "output_type": "stream",
     "text": [
      "(1761, 5)\n"
     ]
    },
    {
     "data": {
      "text/html": [
       "<div>\n",
       "<style scoped>\n",
       "    .dataframe tbody tr th:only-of-type {\n",
       "        vertical-align: middle;\n",
       "    }\n",
       "\n",
       "    .dataframe tbody tr th {\n",
       "        vertical-align: top;\n",
       "    }\n",
       "\n",
       "    .dataframe thead th {\n",
       "        text-align: right;\n",
       "    }\n",
       "</style>\n",
       "<table border=\"1\" class=\"dataframe\">\n",
       "  <thead>\n",
       "    <tr style=\"text-align: right;\">\n",
       "      <th></th>\n",
       "      <th>row_id</th>\n",
       "      <th>subject_id</th>\n",
       "      <th>hadm_id</th>\n",
       "      <th>seq_num</th>\n",
       "      <th>icd9_code</th>\n",
       "    </tr>\n",
       "  </thead>\n",
       "  <tbody>\n",
       "    <tr>\n",
       "      <th>0</th>\n",
       "      <td>112344</td>\n",
       "      <td>10006</td>\n",
       "      <td>142345</td>\n",
       "      <td>1</td>\n",
       "      <td>99591</td>\n",
       "    </tr>\n",
       "    <tr>\n",
       "      <th>1</th>\n",
       "      <td>112345</td>\n",
       "      <td>10006</td>\n",
       "      <td>142345</td>\n",
       "      <td>2</td>\n",
       "      <td>99662</td>\n",
       "    </tr>\n",
       "  </tbody>\n",
       "</table>\n",
       "</div>"
      ],
      "text/plain": [
       "   row_id  subject_id  hadm_id  seq_num icd9_code\n",
       "0  112344       10006   142345        1     99591\n",
       "1  112345       10006   142345        2     99662"
      ]
     },
     "execution_count": 7,
     "metadata": {},
     "output_type": "execute_result"
    }
   ],
   "source": [
    "print(diagnoses.shape)\n",
    "diagnoses.head(2)"
   ]
  },
  {
   "cell_type": "markdown",
   "id": "0f3c23aa-93a0-4a79-893a-1b4c32176b2d",
   "metadata": {},
   "source": [
    "---"
   ]
  },
  {
   "cell_type": "markdown",
   "id": "a93ee720-afbc-448e-8bb9-e3f6ffa752e8",
   "metadata": {},
   "source": [
    "## Data processing & cleaning"
   ]
  },
  {
   "cell_type": "markdown",
   "id": "bcbe8b85-4496-453e-b3b9-88114f74af7c",
   "metadata": {},
   "source": [
    "#### Target variable - death during ICU - who died between `in time` and `out time` of ICU"
   ]
  },
  {
   "cell_type": "code",
   "execution_count": 8,
   "id": "5003764f-ff16-4322-94ee-9772167547e7",
   "metadata": {},
   "outputs": [],
   "source": [
    "df = icu_stays.merge(admissions, on=\"hadm_id\", how=\"left\")\n",
    "\n",
    "df[\"intime\"] = pd.to_datetime(df[\"intime\"])\n",
    "df[\"outtime\"] = pd.to_datetime(df[\"outtime\"])\n",
    "df[\"deathtime\"] = pd.to_datetime(df[\"deathtime\"])\n",
    "\n",
    "df[\"died_during_icu\"] = (df[\"deathtime\"].notna()) & (df[\"deathtime\"] >= df[\"intime\"]) & (df[\"deathtime\"] <= df[\"outtime\"])\n",
    "df[\"died_during_icu\"] = df[\"died_during_icu\"].astype(int)"
   ]
  },
  {
   "cell_type": "markdown",
   "id": "ae550c7a-98da-4d18-9d42-b6dd51d4d08e",
   "metadata": {},
   "source": [
    "#### Extracting the age of every patient who died during ICU\n",
    "To keep format - every big and unreasonable value (120+) converted to the maximum age (92)"
   ]
  },
  {
   "cell_type": "code",
   "execution_count": 9,
   "id": "51860483-63eb-449e-9b34-e3df1c27baa3",
   "metadata": {},
   "outputs": [],
   "source": [
    "patients[\"dob\"] = pd.to_datetime(patients[\"dob\"], errors=\"coerce\").dt.date\n",
    "patients[\"dod\"] = pd.to_datetime(patients[\"dod\"], errors=\"coerce\").dt.date\n",
    "ages = []\n",
    "for i in (patients[\"dod\"] - patients[\"dob\"])/365:\n",
    "    if i.days > 120: # although the command is `days` - the representation is years\n",
    "        i = 100\n",
    "        ages.append(i)\n",
    "    else:\n",
    "        ages.append(i.days)\n",
    "patients[\"age\"] = ages"
   ]
  },
  {
   "cell_type": "code",
   "execution_count": 10,
   "id": "5f1fc120-32e3-4135-9fa5-c37c8535a5de",
   "metadata": {},
   "outputs": [],
   "source": [
    "df = df.rename(columns={'subject_id_x':'subject_id'})\n",
    "df = df.merge(patients, on = 'subject_id', how= 'left') # Merging with patients information for depographic features"
   ]
  },
  {
   "cell_type": "code",
   "execution_count": 11,
   "id": "8dae1468-c975-4469-b24e-6f5f43a5d39c",
   "metadata": {},
   "outputs": [],
   "source": [
    "# Create 'age_group' column\n",
    "bins = [0, 10, 20, 30, 40, 50, 60, 70, 80, 90, 100]\n",
    "labels = ['0-10', '11-20', '21-30', '31-40', '41-50', '51-60', '61-70', '71-80', '81-90', '91-100']\n",
    "df['age_group'] = pd.cut(df['age'], bins=bins, labels=labels, right=True)"
   ]
  },
  {
   "cell_type": "code",
   "execution_count": 12,
   "id": "4ed89033-e36b-4fae-9813-c75d730381c1",
   "metadata": {},
   "outputs": [],
   "source": [
    "\n",
    "df = df[['subject_id','hadm_id', 'icustay_id','gender','age','age_group', 'ethnicity','died_during_icu']] # Keeping only relevant features"
   ]
  },
  {
   "cell_type": "markdown",
   "id": "e3e5be43-8d05-4658-be0d-01613d955ee2",
   "metadata": {},
   "source": [
    "#### Potassium information extraction from `Lab Events` table:\n",
    "Taking 5 estimators:\n",
    "  - first and last potassium measures.\n",
    "  - mean and median potassium values.\n",
    "  - max potassium value."
   ]
  },
  {
   "cell_type": "code",
   "execution_count": 13,
   "id": "4d4d8165-f768-4379-a19a-6702798b707f",
   "metadata": {},
   "outputs": [
    {
     "data": {
      "text/html": [
       "<div>\n",
       "<style scoped>\n",
       "    .dataframe tbody tr th:only-of-type {\n",
       "        vertical-align: middle;\n",
       "    }\n",
       "\n",
       "    .dataframe tbody tr th {\n",
       "        vertical-align: top;\n",
       "    }\n",
       "\n",
       "    .dataframe thead th {\n",
       "        text-align: right;\n",
       "    }\n",
       "</style>\n",
       "<table border=\"1\" class=\"dataframe\">\n",
       "  <thead>\n",
       "    <tr style=\"text-align: right;\">\n",
       "      <th></th>\n",
       "      <th>hadm_id</th>\n",
       "      <th>first_potassium</th>\n",
       "      <th>mean_potassium</th>\n",
       "      <th>median_potassium</th>\n",
       "      <th>last_potassium</th>\n",
       "      <th>max_potassium</th>\n",
       "    </tr>\n",
       "  </thead>\n",
       "  <tbody>\n",
       "    <tr>\n",
       "      <th>0</th>\n",
       "      <td>100375.0</td>\n",
       "      <td>3.8</td>\n",
       "      <td>3.880000</td>\n",
       "      <td>3.80</td>\n",
       "      <td>3.8</td>\n",
       "      <td>4.5</td>\n",
       "    </tr>\n",
       "    <tr>\n",
       "      <th>1</th>\n",
       "      <td>100969.0</td>\n",
       "      <td>4.4</td>\n",
       "      <td>3.925000</td>\n",
       "      <td>4.15</td>\n",
       "      <td>4.2</td>\n",
       "      <td>4.4</td>\n",
       "    </tr>\n",
       "    <tr>\n",
       "      <th>2</th>\n",
       "      <td>101361.0</td>\n",
       "      <td>3.1</td>\n",
       "      <td>4.255556</td>\n",
       "      <td>4.35</td>\n",
       "      <td>4.9</td>\n",
       "      <td>4.9</td>\n",
       "    </tr>\n",
       "    <tr>\n",
       "      <th>3</th>\n",
       "      <td>102203.0</td>\n",
       "      <td>4.2</td>\n",
       "      <td>3.662500</td>\n",
       "      <td>3.75</td>\n",
       "      <td>3.7</td>\n",
       "      <td>4.2</td>\n",
       "    </tr>\n",
       "    <tr>\n",
       "      <th>4</th>\n",
       "      <td>103379.0</td>\n",
       "      <td>3.4</td>\n",
       "      <td>3.493333</td>\n",
       "      <td>3.50</td>\n",
       "      <td>3.8</td>\n",
       "      <td>4.0</td>\n",
       "    </tr>\n",
       "    <tr>\n",
       "      <th>...</th>\n",
       "      <td>...</td>\n",
       "      <td>...</td>\n",
       "      <td>...</td>\n",
       "      <td>...</td>\n",
       "      <td>...</td>\n",
       "      <td>...</td>\n",
       "    </tr>\n",
       "    <tr>\n",
       "      <th>124</th>\n",
       "      <td>198330.0</td>\n",
       "      <td>3.6</td>\n",
       "      <td>3.728571</td>\n",
       "      <td>3.80</td>\n",
       "      <td>3.5</td>\n",
       "      <td>4.1</td>\n",
       "    </tr>\n",
       "    <tr>\n",
       "      <th>125</th>\n",
       "      <td>198480.0</td>\n",
       "      <td>4.0</td>\n",
       "      <td>4.109091</td>\n",
       "      <td>3.80</td>\n",
       "      <td>5.8</td>\n",
       "      <td>5.8</td>\n",
       "    </tr>\n",
       "    <tr>\n",
       "      <th>126</th>\n",
       "      <td>198503.0</td>\n",
       "      <td>4.2</td>\n",
       "      <td>4.125000</td>\n",
       "      <td>3.90</td>\n",
       "      <td>5.7</td>\n",
       "      <td>5.7</td>\n",
       "    </tr>\n",
       "    <tr>\n",
       "      <th>127</th>\n",
       "      <td>199207.0</td>\n",
       "      <td>4.7</td>\n",
       "      <td>3.700000</td>\n",
       "      <td>3.75</td>\n",
       "      <td>3.9</td>\n",
       "      <td>4.7</td>\n",
       "    </tr>\n",
       "    <tr>\n",
       "      <th>128</th>\n",
       "      <td>199395.0</td>\n",
       "      <td>6.6</td>\n",
       "      <td>4.218182</td>\n",
       "      <td>4.10</td>\n",
       "      <td>4.2</td>\n",
       "      <td>6.6</td>\n",
       "    </tr>\n",
       "  </tbody>\n",
       "</table>\n",
       "<p>129 rows × 6 columns</p>\n",
       "</div>"
      ],
      "text/plain": [
       "      hadm_id  first_potassium  mean_potassium  median_potassium  \\\n",
       "0    100375.0              3.8        3.880000              3.80   \n",
       "1    100969.0              4.4        3.925000              4.15   \n",
       "2    101361.0              3.1        4.255556              4.35   \n",
       "3    102203.0              4.2        3.662500              3.75   \n",
       "4    103379.0              3.4        3.493333              3.50   \n",
       "..        ...              ...             ...               ...   \n",
       "124  198330.0              3.6        3.728571              3.80   \n",
       "125  198480.0              4.0        4.109091              3.80   \n",
       "126  198503.0              4.2        4.125000              3.90   \n",
       "127  199207.0              4.7        3.700000              3.75   \n",
       "128  199395.0              6.6        4.218182              4.10   \n",
       "\n",
       "     last_potassium  max_potassium  \n",
       "0               3.8            4.5  \n",
       "1               4.2            4.4  \n",
       "2               4.9            4.9  \n",
       "3               3.7            4.2  \n",
       "4               3.8            4.0  \n",
       "..              ...            ...  \n",
       "124             3.5            4.1  \n",
       "125             5.8            5.8  \n",
       "126             5.7            5.7  \n",
       "127             3.9            4.7  \n",
       "128             4.2            6.6  \n",
       "\n",
       "[129 rows x 6 columns]"
      ]
     },
     "execution_count": 13,
     "metadata": {},
     "output_type": "execute_result"
    }
   ],
   "source": [
    "# Extract Potassium measurements (itemid = 50971)\n",
    "potassium = labevents[labevents['itemid'] == 50971][['hadm_id', 'valuenum']]\n",
    "\n",
    "estimators = [\"first\", \"mean\", \"median\", \"last\", \"max\"]\n",
    "\n",
    "# Group by hadm_id and calculate statistics\n",
    "potassium_rates = potassium.groupby(\"hadm_id\").agg({\"valuenum\": estimators}).reset_index()\n",
    "potassium_rates = pd.concat([potassium_rates['hadm_id'], potassium_rates['valuenum']], axis=1)\n",
    "potassium_rates.rename(columns={col: col + '_potassium' for col in estimators}, inplace=True)\n",
    "\n",
    "potassium_rates\n"
   ]
  },
  {
   "cell_type": "code",
   "execution_count": 14,
   "id": "9d3b9eb2-609d-4f33-968c-963c0384cf71",
   "metadata": {},
   "outputs": [],
   "source": [
    "df = df.merge(potassium_rates, on = 'hadm_id') # Merging with our dataset"
   ]
  },
  {
   "cell_type": "markdown",
   "id": "ce284c35-86bc-4018-81d5-c4ea048d3b61",
   "metadata": {},
   "source": [
    "#### COPD information extraction from `Diagnoses` table:"
   ]
  },
  {
   "cell_type": "code",
   "execution_count": 15,
   "id": "85c1cbc4-e9c7-43fd-86fe-215419280403",
   "metadata": {},
   "outputs": [],
   "source": [
    "copd_codes = [\"491\", \"492\", \"496\"]                                                     # Define COPD-related ICD-9 codes (first 3 digits match COPD)\n",
    "copd = diagnoses[diagnoses[\"icd9_code\"].astype(str).str.startswith(tuple(copd_codes))] # Filter rows where the ICD-9 code starts with COPD-related codes\n",
    "\n",
    "df['has_COPD'] = df['hadm_id'].isin(copd['hadm_id']).astype(int) # Column creation due to patient COPD history in every admission"
   ]
  },
  {
   "cell_type": "code",
   "execution_count": 16,
   "id": "b768da79-ab87-4c96-a7ff-19b0defd36f7",
   "metadata": {},
   "outputs": [
    {
     "name": "stdout",
     "output_type": "stream",
     "text": [
      "Unique values counter: \n",
      "\n",
      " subject_id          100\n",
      "hadm_id             129\n",
      "icustay_id          136\n",
      "gender                2\n",
      "age                  44\n",
      "age_group             9\n",
      "ethnicity             9\n",
      "died_during_icu       2\n",
      "first_potassium      38\n",
      "mean_potassium      114\n",
      "median_potassium     33\n",
      "last_potassium       26\n",
      "max_potassium        34\n",
      "has_COPD              2\n",
      "dtype: int64 \n",
      "\n"
     ]
    },
    {
     "data": {
      "text/html": [
       "<div>\n",
       "<style scoped>\n",
       "    .dataframe tbody tr th:only-of-type {\n",
       "        vertical-align: middle;\n",
       "    }\n",
       "\n",
       "    .dataframe tbody tr th {\n",
       "        vertical-align: top;\n",
       "    }\n",
       "\n",
       "    .dataframe thead th {\n",
       "        text-align: right;\n",
       "    }\n",
       "</style>\n",
       "<table border=\"1\" class=\"dataframe\">\n",
       "  <thead>\n",
       "    <tr style=\"text-align: right;\">\n",
       "      <th></th>\n",
       "      <th>subject_id</th>\n",
       "      <th>hadm_id</th>\n",
       "      <th>icustay_id</th>\n",
       "      <th>gender</th>\n",
       "      <th>age</th>\n",
       "      <th>age_group</th>\n",
       "      <th>ethnicity</th>\n",
       "      <th>died_during_icu</th>\n",
       "      <th>first_potassium</th>\n",
       "      <th>mean_potassium</th>\n",
       "      <th>median_potassium</th>\n",
       "      <th>last_potassium</th>\n",
       "      <th>max_potassium</th>\n",
       "      <th>has_COPD</th>\n",
       "    </tr>\n",
       "  </thead>\n",
       "  <tbody>\n",
       "    <tr>\n",
       "      <th>0</th>\n",
       "      <td>10006</td>\n",
       "      <td>142345</td>\n",
       "      <td>206504</td>\n",
       "      <td>F</td>\n",
       "      <td>71</td>\n",
       "      <td>71-80</td>\n",
       "      <td>BLACK/AFRICAN AMERICAN</td>\n",
       "      <td>0</td>\n",
       "      <td>6.0</td>\n",
       "      <td>4.575000</td>\n",
       "      <td>4.50</td>\n",
       "      <td>3.9</td>\n",
       "      <td>6.0</td>\n",
       "      <td>0</td>\n",
       "    </tr>\n",
       "    <tr>\n",
       "      <th>1</th>\n",
       "      <td>10011</td>\n",
       "      <td>105331</td>\n",
       "      <td>232110</td>\n",
       "      <td>F</td>\n",
       "      <td>36</td>\n",
       "      <td>31-40</td>\n",
       "      <td>UNKNOWN/NOT SPECIFIED</td>\n",
       "      <td>1</td>\n",
       "      <td>5.9</td>\n",
       "      <td>3.986364</td>\n",
       "      <td>3.85</td>\n",
       "      <td>4.6</td>\n",
       "      <td>5.9</td>\n",
       "      <td>0</td>\n",
       "    </tr>\n",
       "    <tr>\n",
       "      <th>2</th>\n",
       "      <td>10013</td>\n",
       "      <td>165520</td>\n",
       "      <td>264446</td>\n",
       "      <td>F</td>\n",
       "      <td>87</td>\n",
       "      <td>81-90</td>\n",
       "      <td>UNKNOWN/NOT SPECIFIED</td>\n",
       "      <td>1</td>\n",
       "      <td>4.2</td>\n",
       "      <td>4.150000</td>\n",
       "      <td>4.15</td>\n",
       "      <td>4.1</td>\n",
       "      <td>4.2</td>\n",
       "      <td>0</td>\n",
       "    </tr>\n",
       "    <tr>\n",
       "      <th>3</th>\n",
       "      <td>10017</td>\n",
       "      <td>199207</td>\n",
       "      <td>204881</td>\n",
       "      <td>F</td>\n",
       "      <td>77</td>\n",
       "      <td>71-80</td>\n",
       "      <td>WHITE</td>\n",
       "      <td>0</td>\n",
       "      <td>4.7</td>\n",
       "      <td>3.700000</td>\n",
       "      <td>3.75</td>\n",
       "      <td>3.9</td>\n",
       "      <td>4.7</td>\n",
       "      <td>1</td>\n",
       "    </tr>\n",
       "    <tr>\n",
       "      <th>4</th>\n",
       "      <td>10019</td>\n",
       "      <td>177759</td>\n",
       "      <td>228977</td>\n",
       "      <td>M</td>\n",
       "      <td>48</td>\n",
       "      <td>41-50</td>\n",
       "      <td>WHITE</td>\n",
       "      <td>1</td>\n",
       "      <td>3.3</td>\n",
       "      <td>4.400000</td>\n",
       "      <td>3.60</td>\n",
       "      <td>5.2</td>\n",
       "      <td>6.3</td>\n",
       "      <td>0</td>\n",
       "    </tr>\n",
       "    <tr>\n",
       "      <th>...</th>\n",
       "      <td>...</td>\n",
       "      <td>...</td>\n",
       "      <td>...</td>\n",
       "      <td>...</td>\n",
       "      <td>...</td>\n",
       "      <td>...</td>\n",
       "      <td>...</td>\n",
       "      <td>...</td>\n",
       "      <td>...</td>\n",
       "      <td>...</td>\n",
       "      <td>...</td>\n",
       "      <td>...</td>\n",
       "      <td>...</td>\n",
       "      <td>...</td>\n",
       "    </tr>\n",
       "    <tr>\n",
       "      <th>131</th>\n",
       "      <td>44083</td>\n",
       "      <td>198330</td>\n",
       "      <td>286428</td>\n",
       "      <td>M</td>\n",
       "      <td>56</td>\n",
       "      <td>51-60</td>\n",
       "      <td>WHITE</td>\n",
       "      <td>0</td>\n",
       "      <td>3.6</td>\n",
       "      <td>3.728571</td>\n",
       "      <td>3.80</td>\n",
       "      <td>3.5</td>\n",
       "      <td>4.1</td>\n",
       "      <td>0</td>\n",
       "    </tr>\n",
       "    <tr>\n",
       "      <th>132</th>\n",
       "      <td>44154</td>\n",
       "      <td>174245</td>\n",
       "      <td>217724</td>\n",
       "      <td>M</td>\n",
       "      <td>100</td>\n",
       "      <td>91-100</td>\n",
       "      <td>WHITE</td>\n",
       "      <td>1</td>\n",
       "      <td>4.5</td>\n",
       "      <td>4.500000</td>\n",
       "      <td>4.50</td>\n",
       "      <td>4.5</td>\n",
       "      <td>4.5</td>\n",
       "      <td>0</td>\n",
       "    </tr>\n",
       "    <tr>\n",
       "      <th>133</th>\n",
       "      <td>44212</td>\n",
       "      <td>163189</td>\n",
       "      <td>239396</td>\n",
       "      <td>F</td>\n",
       "      <td>45</td>\n",
       "      <td>41-50</td>\n",
       "      <td>BLACK/AFRICAN AMERICAN</td>\n",
       "      <td>0</td>\n",
       "      <td>3.0</td>\n",
       "      <td>3.560177</td>\n",
       "      <td>3.50</td>\n",
       "      <td>3.1</td>\n",
       "      <td>5.2</td>\n",
       "      <td>0</td>\n",
       "    </tr>\n",
       "    <tr>\n",
       "      <th>134</th>\n",
       "      <td>44222</td>\n",
       "      <td>192189</td>\n",
       "      <td>238186</td>\n",
       "      <td>M</td>\n",
       "      <td>75</td>\n",
       "      <td>71-80</td>\n",
       "      <td>WHITE</td>\n",
       "      <td>0</td>\n",
       "      <td>5.0</td>\n",
       "      <td>4.566667</td>\n",
       "      <td>4.50</td>\n",
       "      <td>4.2</td>\n",
       "      <td>5.0</td>\n",
       "      <td>0</td>\n",
       "    </tr>\n",
       "    <tr>\n",
       "      <th>135</th>\n",
       "      <td>44228</td>\n",
       "      <td>103379</td>\n",
       "      <td>217992</td>\n",
       "      <td>F</td>\n",
       "      <td>58</td>\n",
       "      <td>51-60</td>\n",
       "      <td>WHITE</td>\n",
       "      <td>0</td>\n",
       "      <td>3.4</td>\n",
       "      <td>3.493333</td>\n",
       "      <td>3.50</td>\n",
       "      <td>3.8</td>\n",
       "      <td>4.0</td>\n",
       "      <td>0</td>\n",
       "    </tr>\n",
       "  </tbody>\n",
       "</table>\n",
       "<p>136 rows × 14 columns</p>\n",
       "</div>"
      ],
      "text/plain": [
       "     subject_id  hadm_id  icustay_id gender  age age_group  \\\n",
       "0         10006   142345      206504      F   71     71-80   \n",
       "1         10011   105331      232110      F   36     31-40   \n",
       "2         10013   165520      264446      F   87     81-90   \n",
       "3         10017   199207      204881      F   77     71-80   \n",
       "4         10019   177759      228977      M   48     41-50   \n",
       "..          ...      ...         ...    ...  ...       ...   \n",
       "131       44083   198330      286428      M   56     51-60   \n",
       "132       44154   174245      217724      M  100    91-100   \n",
       "133       44212   163189      239396      F   45     41-50   \n",
       "134       44222   192189      238186      M   75     71-80   \n",
       "135       44228   103379      217992      F   58     51-60   \n",
       "\n",
       "                  ethnicity  died_during_icu  first_potassium  mean_potassium  \\\n",
       "0    BLACK/AFRICAN AMERICAN                0              6.0        4.575000   \n",
       "1     UNKNOWN/NOT SPECIFIED                1              5.9        3.986364   \n",
       "2     UNKNOWN/NOT SPECIFIED                1              4.2        4.150000   \n",
       "3                     WHITE                0              4.7        3.700000   \n",
       "4                     WHITE                1              3.3        4.400000   \n",
       "..                      ...              ...              ...             ...   \n",
       "131                   WHITE                0              3.6        3.728571   \n",
       "132                   WHITE                1              4.5        4.500000   \n",
       "133  BLACK/AFRICAN AMERICAN                0              3.0        3.560177   \n",
       "134                   WHITE                0              5.0        4.566667   \n",
       "135                   WHITE                0              3.4        3.493333   \n",
       "\n",
       "     median_potassium  last_potassium  max_potassium  has_COPD  \n",
       "0                4.50             3.9            6.0         0  \n",
       "1                3.85             4.6            5.9         0  \n",
       "2                4.15             4.1            4.2         0  \n",
       "3                3.75             3.9            4.7         1  \n",
       "4                3.60             5.2            6.3         0  \n",
       "..                ...             ...            ...       ...  \n",
       "131              3.80             3.5            4.1         0  \n",
       "132              4.50             4.5            4.5         0  \n",
       "133              3.50             3.1            5.2         0  \n",
       "134              4.50             4.2            5.0         0  \n",
       "135              3.50             3.8            4.0         0  \n",
       "\n",
       "[136 rows x 14 columns]"
      ]
     },
     "execution_count": 16,
     "metadata": {},
     "output_type": "execute_result"
    }
   ],
   "source": [
    "df = df.drop_duplicates() # Dropping double samples\n",
    "print('Unique values counter: \\n\\n' ,df.nunique(), \"\\n\")\n",
    "df"
   ]
  },
  {
   "cell_type": "markdown",
   "id": "89dd531f-0af3-4665-8eee-5c7675fcafbf",
   "metadata": {},
   "source": [
    "**As in can be noticed - every sample represents single ICU stay**"
   ]
  },
  {
   "cell_type": "markdown",
   "id": "09778b7e-2a1a-49ba-866b-d39c6c3a6eec",
   "metadata": {},
   "source": [
    "We will examine the frequency of patients' occurrences."
   ]
  },
  {
   "cell_type": "code",
   "execution_count": 17,
   "id": "dfa962ba-9245-4ea9-b923-79cd499c0936",
   "metadata": {},
   "outputs": [
    {
     "data": {
      "text/plain": [
       "subject_id\n",
       "41976    15\n",
       "10124     4\n",
       "44083     3\n",
       "10088     3\n",
       "40124     2\n",
       "43735     2\n",
       "40177     2\n",
       "40310     2\n",
       "10119     2\n",
       "10117     2\n",
       "41795     2\n",
       "10094     2\n",
       "42135     2\n",
       "42346     2\n",
       "10059     2\n",
       "Name: count, dtype: int64"
      ]
     },
     "execution_count": 17,
     "metadata": {},
     "output_type": "execute_result"
    }
   ],
   "source": [
    "df['subject_id'].value_counts().head(15)"
   ]
  },
  {
   "cell_type": "markdown",
   "id": "7ee63ab4-8ef3-4eff-83f0-8dfc02bda415",
   "metadata": {},
   "source": [
    "We note that there is one patient who returned to the emergency room 15 times. Let's examine this exceptional case in detail."
   ]
  },
  {
   "cell_type": "code",
   "execution_count": 18,
   "id": "53e6f3e7-9421-4d39-9468-3d0cea09bf4d",
   "metadata": {},
   "outputs": [
    {
     "data": {
      "text/html": [
       "<div>\n",
       "<style scoped>\n",
       "    .dataframe tbody tr th:only-of-type {\n",
       "        vertical-align: middle;\n",
       "    }\n",
       "\n",
       "    .dataframe tbody tr th {\n",
       "        vertical-align: top;\n",
       "    }\n",
       "\n",
       "    .dataframe thead th {\n",
       "        text-align: right;\n",
       "    }\n",
       "</style>\n",
       "<table border=\"1\" class=\"dataframe\">\n",
       "  <thead>\n",
       "    <tr style=\"text-align: right;\">\n",
       "      <th></th>\n",
       "      <th>subject_id</th>\n",
       "      <th>hadm_id</th>\n",
       "      <th>icustay_id</th>\n",
       "      <th>gender</th>\n",
       "      <th>age</th>\n",
       "      <th>age_group</th>\n",
       "      <th>ethnicity</th>\n",
       "      <th>died_during_icu</th>\n",
       "      <th>first_potassium</th>\n",
       "      <th>mean_potassium</th>\n",
       "      <th>median_potassium</th>\n",
       "      <th>last_potassium</th>\n",
       "      <th>max_potassium</th>\n",
       "      <th>has_COPD</th>\n",
       "    </tr>\n",
       "  </thead>\n",
       "  <tbody>\n",
       "    <tr>\n",
       "      <th>80</th>\n",
       "      <td>41976</td>\n",
       "      <td>125449</td>\n",
       "      <td>285272</td>\n",
       "      <td>M</td>\n",
       "      <td>66</td>\n",
       "      <td>61-70</td>\n",
       "      <td>HISPANIC/LATINO - PUERTO RICAN</td>\n",
       "      <td>0</td>\n",
       "      <td>4.3</td>\n",
       "      <td>3.790909</td>\n",
       "      <td>3.70</td>\n",
       "      <td>4.0</td>\n",
       "      <td>4.3</td>\n",
       "      <td>0</td>\n",
       "    </tr>\n",
       "    <tr>\n",
       "      <th>81</th>\n",
       "      <td>41976</td>\n",
       "      <td>173269</td>\n",
       "      <td>205170</td>\n",
       "      <td>M</td>\n",
       "      <td>66</td>\n",
       "      <td>61-70</td>\n",
       "      <td>HISPANIC/LATINO - PUERTO RICAN</td>\n",
       "      <td>0</td>\n",
       "      <td>3.4</td>\n",
       "      <td>3.500000</td>\n",
       "      <td>3.40</td>\n",
       "      <td>4.1</td>\n",
       "      <td>4.1</td>\n",
       "      <td>0</td>\n",
       "    </tr>\n",
       "    <tr>\n",
       "      <th>82</th>\n",
       "      <td>41976</td>\n",
       "      <td>176016</td>\n",
       "      <td>286072</td>\n",
       "      <td>M</td>\n",
       "      <td>66</td>\n",
       "      <td>61-70</td>\n",
       "      <td>HISPANIC/LATINO - PUERTO RICAN</td>\n",
       "      <td>0</td>\n",
       "      <td>3.5</td>\n",
       "      <td>3.640625</td>\n",
       "      <td>3.55</td>\n",
       "      <td>4.3</td>\n",
       "      <td>4.8</td>\n",
       "      <td>0</td>\n",
       "    </tr>\n",
       "    <tr>\n",
       "      <th>83</th>\n",
       "      <td>41976</td>\n",
       "      <td>172082</td>\n",
       "      <td>253931</td>\n",
       "      <td>M</td>\n",
       "      <td>66</td>\n",
       "      <td>61-70</td>\n",
       "      <td>HISPANIC/LATINO - PUERTO RICAN</td>\n",
       "      <td>0</td>\n",
       "      <td>3.8</td>\n",
       "      <td>3.700000</td>\n",
       "      <td>3.75</td>\n",
       "      <td>3.6</td>\n",
       "      <td>4.3</td>\n",
       "      <td>0</td>\n",
       "    </tr>\n",
       "    <tr>\n",
       "      <th>84</th>\n",
       "      <td>41976</td>\n",
       "      <td>152032</td>\n",
       "      <td>234541</td>\n",
       "      <td>M</td>\n",
       "      <td>66</td>\n",
       "      <td>61-70</td>\n",
       "      <td>HISPANIC/LATINO - PUERTO RICAN</td>\n",
       "      <td>0</td>\n",
       "      <td>3.9</td>\n",
       "      <td>3.766667</td>\n",
       "      <td>3.80</td>\n",
       "      <td>3.5</td>\n",
       "      <td>4.1</td>\n",
       "      <td>0</td>\n",
       "    </tr>\n",
       "    <tr>\n",
       "      <th>85</th>\n",
       "      <td>41976</td>\n",
       "      <td>130681</td>\n",
       "      <td>265505</td>\n",
       "      <td>M</td>\n",
       "      <td>66</td>\n",
       "      <td>61-70</td>\n",
       "      <td>HISPANIC/LATINO - PUERTO RICAN</td>\n",
       "      <td>0</td>\n",
       "      <td>5.5</td>\n",
       "      <td>3.985714</td>\n",
       "      <td>3.70</td>\n",
       "      <td>3.9</td>\n",
       "      <td>5.5</td>\n",
       "      <td>0</td>\n",
       "    </tr>\n",
       "    <tr>\n",
       "      <th>86</th>\n",
       "      <td>41976</td>\n",
       "      <td>180546</td>\n",
       "      <td>285353</td>\n",
       "      <td>M</td>\n",
       "      <td>66</td>\n",
       "      <td>61-70</td>\n",
       "      <td>HISPANIC/LATINO - PUERTO RICAN</td>\n",
       "      <td>0</td>\n",
       "      <td>6.2</td>\n",
       "      <td>3.925000</td>\n",
       "      <td>3.70</td>\n",
       "      <td>4.0</td>\n",
       "      <td>6.2</td>\n",
       "      <td>0</td>\n",
       "    </tr>\n",
       "    <tr>\n",
       "      <th>87</th>\n",
       "      <td>41976</td>\n",
       "      <td>174863</td>\n",
       "      <td>263095</td>\n",
       "      <td>M</td>\n",
       "      <td>66</td>\n",
       "      <td>61-70</td>\n",
       "      <td>HISPANIC/LATINO - PUERTO RICAN</td>\n",
       "      <td>0</td>\n",
       "      <td>5.5</td>\n",
       "      <td>4.300000</td>\n",
       "      <td>4.10</td>\n",
       "      <td>4.1</td>\n",
       "      <td>5.5</td>\n",
       "      <td>0</td>\n",
       "    </tr>\n",
       "    <tr>\n",
       "      <th>88</th>\n",
       "      <td>41976</td>\n",
       "      <td>125013</td>\n",
       "      <td>213315</td>\n",
       "      <td>M</td>\n",
       "      <td>66</td>\n",
       "      <td>61-70</td>\n",
       "      <td>HISPANIC/LATINO - PUERTO RICAN</td>\n",
       "      <td>0</td>\n",
       "      <td>6.9</td>\n",
       "      <td>4.416667</td>\n",
       "      <td>4.05</td>\n",
       "      <td>4.1</td>\n",
       "      <td>6.9</td>\n",
       "      <td>0</td>\n",
       "    </tr>\n",
       "    <tr>\n",
       "      <th>89</th>\n",
       "      <td>41976</td>\n",
       "      <td>155297</td>\n",
       "      <td>209797</td>\n",
       "      <td>M</td>\n",
       "      <td>66</td>\n",
       "      <td>61-70</td>\n",
       "      <td>HISPANIC/LATINO - PUERTO RICAN</td>\n",
       "      <td>0</td>\n",
       "      <td>6.4</td>\n",
       "      <td>4.571429</td>\n",
       "      <td>4.30</td>\n",
       "      <td>3.7</td>\n",
       "      <td>6.4</td>\n",
       "      <td>0</td>\n",
       "    </tr>\n",
       "    <tr>\n",
       "      <th>90</th>\n",
       "      <td>41976</td>\n",
       "      <td>179418</td>\n",
       "      <td>242680</td>\n",
       "      <td>M</td>\n",
       "      <td>66</td>\n",
       "      <td>61-70</td>\n",
       "      <td>HISPANIC/LATINO - PUERTO RICAN</td>\n",
       "      <td>0</td>\n",
       "      <td>4.9</td>\n",
       "      <td>4.150000</td>\n",
       "      <td>3.95</td>\n",
       "      <td>3.8</td>\n",
       "      <td>4.9</td>\n",
       "      <td>0</td>\n",
       "    </tr>\n",
       "    <tr>\n",
       "      <th>91</th>\n",
       "      <td>41976</td>\n",
       "      <td>151798</td>\n",
       "      <td>280943</td>\n",
       "      <td>M</td>\n",
       "      <td>66</td>\n",
       "      <td>61-70</td>\n",
       "      <td>HISPANIC/LATINO - PUERTO RICAN</td>\n",
       "      <td>0</td>\n",
       "      <td>4.9</td>\n",
       "      <td>3.860000</td>\n",
       "      <td>3.70</td>\n",
       "      <td>3.3</td>\n",
       "      <td>4.9</td>\n",
       "      <td>0</td>\n",
       "    </tr>\n",
       "    <tr>\n",
       "      <th>92</th>\n",
       "      <td>41976</td>\n",
       "      <td>145024</td>\n",
       "      <td>291067</td>\n",
       "      <td>M</td>\n",
       "      <td>66</td>\n",
       "      <td>61-70</td>\n",
       "      <td>HISPANIC/LATINO - PUERTO RICAN</td>\n",
       "      <td>0</td>\n",
       "      <td>4.2</td>\n",
       "      <td>3.700000</td>\n",
       "      <td>3.60</td>\n",
       "      <td>3.6</td>\n",
       "      <td>4.2</td>\n",
       "      <td>0</td>\n",
       "    </tr>\n",
       "    <tr>\n",
       "      <th>93</th>\n",
       "      <td>41976</td>\n",
       "      <td>149469</td>\n",
       "      <td>216493</td>\n",
       "      <td>M</td>\n",
       "      <td>66</td>\n",
       "      <td>61-70</td>\n",
       "      <td>HISPANIC/LATINO - PUERTO RICAN</td>\n",
       "      <td>0</td>\n",
       "      <td>4.1</td>\n",
       "      <td>4.009091</td>\n",
       "      <td>3.70</td>\n",
       "      <td>5.2</td>\n",
       "      <td>5.3</td>\n",
       "      <td>0</td>\n",
       "    </tr>\n",
       "    <tr>\n",
       "      <th>94</th>\n",
       "      <td>41976</td>\n",
       "      <td>153826</td>\n",
       "      <td>267267</td>\n",
       "      <td>M</td>\n",
       "      <td>66</td>\n",
       "      <td>61-70</td>\n",
       "      <td>HISPANIC/LATINO - PUERTO RICAN</td>\n",
       "      <td>0</td>\n",
       "      <td>7.3</td>\n",
       "      <td>4.037500</td>\n",
       "      <td>3.60</td>\n",
       "      <td>3.4</td>\n",
       "      <td>7.3</td>\n",
       "      <td>0</td>\n",
       "    </tr>\n",
       "  </tbody>\n",
       "</table>\n",
       "</div>"
      ],
      "text/plain": [
       "    subject_id  hadm_id  icustay_id gender  age age_group  \\\n",
       "80       41976   125449      285272      M   66     61-70   \n",
       "81       41976   173269      205170      M   66     61-70   \n",
       "82       41976   176016      286072      M   66     61-70   \n",
       "83       41976   172082      253931      M   66     61-70   \n",
       "84       41976   152032      234541      M   66     61-70   \n",
       "85       41976   130681      265505      M   66     61-70   \n",
       "86       41976   180546      285353      M   66     61-70   \n",
       "87       41976   174863      263095      M   66     61-70   \n",
       "88       41976   125013      213315      M   66     61-70   \n",
       "89       41976   155297      209797      M   66     61-70   \n",
       "90       41976   179418      242680      M   66     61-70   \n",
       "91       41976   151798      280943      M   66     61-70   \n",
       "92       41976   145024      291067      M   66     61-70   \n",
       "93       41976   149469      216493      M   66     61-70   \n",
       "94       41976   153826      267267      M   66     61-70   \n",
       "\n",
       "                         ethnicity  died_during_icu  first_potassium  \\\n",
       "80  HISPANIC/LATINO - PUERTO RICAN                0              4.3   \n",
       "81  HISPANIC/LATINO - PUERTO RICAN                0              3.4   \n",
       "82  HISPANIC/LATINO - PUERTO RICAN                0              3.5   \n",
       "83  HISPANIC/LATINO - PUERTO RICAN                0              3.8   \n",
       "84  HISPANIC/LATINO - PUERTO RICAN                0              3.9   \n",
       "85  HISPANIC/LATINO - PUERTO RICAN                0              5.5   \n",
       "86  HISPANIC/LATINO - PUERTO RICAN                0              6.2   \n",
       "87  HISPANIC/LATINO - PUERTO RICAN                0              5.5   \n",
       "88  HISPANIC/LATINO - PUERTO RICAN                0              6.9   \n",
       "89  HISPANIC/LATINO - PUERTO RICAN                0              6.4   \n",
       "90  HISPANIC/LATINO - PUERTO RICAN                0              4.9   \n",
       "91  HISPANIC/LATINO - PUERTO RICAN                0              4.9   \n",
       "92  HISPANIC/LATINO - PUERTO RICAN                0              4.2   \n",
       "93  HISPANIC/LATINO - PUERTO RICAN                0              4.1   \n",
       "94  HISPANIC/LATINO - PUERTO RICAN                0              7.3   \n",
       "\n",
       "    mean_potassium  median_potassium  last_potassium  max_potassium  has_COPD  \n",
       "80        3.790909              3.70             4.0            4.3         0  \n",
       "81        3.500000              3.40             4.1            4.1         0  \n",
       "82        3.640625              3.55             4.3            4.8         0  \n",
       "83        3.700000              3.75             3.6            4.3         0  \n",
       "84        3.766667              3.80             3.5            4.1         0  \n",
       "85        3.985714              3.70             3.9            5.5         0  \n",
       "86        3.925000              3.70             4.0            6.2         0  \n",
       "87        4.300000              4.10             4.1            5.5         0  \n",
       "88        4.416667              4.05             4.1            6.9         0  \n",
       "89        4.571429              4.30             3.7            6.4         0  \n",
       "90        4.150000              3.95             3.8            4.9         0  \n",
       "91        3.860000              3.70             3.3            4.9         0  \n",
       "92        3.700000              3.60             3.6            4.2         0  \n",
       "93        4.009091              3.70             5.2            5.3         0  \n",
       "94        4.037500              3.60             3.4            7.3         0  "
      ]
     },
     "execution_count": 18,
     "metadata": {},
     "output_type": "execute_result"
    }
   ],
   "source": [
    "df[df['subject_id']==41976]"
   ]
  },
  {
   "cell_type": "markdown",
   "id": "a6d292d9-1a19-4f87-988e-2832a8fcb1d7",
   "metadata": {},
   "source": [
    "The patient came to the emergency room 15 times over 4 years."
   ]
  },
  {
   "cell_type": "code",
   "execution_count": 19,
   "id": "7f3efbd9-556d-4248-9233-6d1cf08445df",
   "metadata": {},
   "outputs": [
    {
     "name": "stdout",
     "output_type": "stream",
     "text": [
      "<class 'pandas.core.frame.DataFrame'>\n",
      "RangeIndex: 136 entries, 0 to 135\n",
      "Data columns (total 14 columns):\n",
      " #   Column            Non-Null Count  Dtype   \n",
      "---  ------            --------------  -----   \n",
      " 0   subject_id        136 non-null    int64   \n",
      " 1   hadm_id           136 non-null    int64   \n",
      " 2   icustay_id        136 non-null    int64   \n",
      " 3   gender            136 non-null    object  \n",
      " 4   age               136 non-null    int64   \n",
      " 5   age_group         136 non-null    category\n",
      " 6   ethnicity         136 non-null    object  \n",
      " 7   died_during_icu   136 non-null    int32   \n",
      " 8   first_potassium   136 non-null    float64 \n",
      " 9   mean_potassium    136 non-null    float64 \n",
      " 10  median_potassium  136 non-null    float64 \n",
      " 11  last_potassium    136 non-null    float64 \n",
      " 12  max_potassium     136 non-null    float64 \n",
      " 13  has_COPD          136 non-null    int32   \n",
      "dtypes: category(1), float64(5), int32(2), int64(4), object(2)\n",
      "memory usage: 13.4+ KB\n"
     ]
    }
   ],
   "source": [
    "df.info() # Features types and missing values review"
   ]
  },
  {
   "cell_type": "code",
   "execution_count": 20,
   "id": "f9389095-8e74-4b61-b71a-39a79e71ceb7",
   "metadata": {},
   "outputs": [],
   "source": [
    "df.to_csv(\"death_during_ICU.csv\", index=False)"
   ]
  },
  {
   "cell_type": "markdown",
   "id": "79edbde1-c718-4b7d-b488-042be4682b68",
   "metadata": {},
   "source": [
    "---"
   ]
  },
  {
   "cell_type": "markdown",
   "id": "1dc3ebc2-665e-481c-8654-3d50f8f1faa1",
   "metadata": {},
   "source": [
    "**Note**: Our data refers to _ICU stays_ - different stays can be of the same patient, every stay considered as a sample"
   ]
  },
  {
   "cell_type": "markdown",
   "id": "91f541e4-4798-4655-8e9c-e6d3632ac958",
   "metadata": {},
   "source": [
    "### Outliers Detection"
   ]
  },
  {
   "cell_type": "markdown",
   "id": "b7d2f9b0-9591-4fbd-b817-3e33338a0465",
   "metadata": {},
   "source": [
    "#### Outliers Detection - age"
   ]
  },
  {
   "cell_type": "code",
   "execution_count": 21,
   "id": "a0fc379c-8069-488a-ae0c-f4209f2e5b18",
   "metadata": {},
   "outputs": [
    {
     "data": {
      "image/png": "[encoded data removed]",
      "text/plain": [
       "<Figure size 640x480 with 1 Axes>"
      ]
     },
     "metadata": {},
     "output_type": "display_data"
    }
   ],
   "source": [
    "sns.boxplot(x=df[\"age\"])\n",
    "sns.swarmplot(x=df[\"age\"], color=\"purple\", alpha=0.9)\n",
    "plt.show()"
   ]
  },
  {
   "cell_type": "code",
   "execution_count": 22,
   "id": "a0b60116-6d7d-4f3e-afcd-fcb2fea3f5db",
   "metadata": {},
   "outputs": [
    {
     "name": "stdout",
     "output_type": "stream",
     "text": [
      "Number of age outliers: 6\n"
     ]
    },
    {
     "data": {
      "text/html": [
       "<div>\n",
       "<style scoped>\n",
       "    .dataframe tbody tr th:only-of-type {\n",
       "        vertical-align: middle;\n",
       "    }\n",
       "\n",
       "    .dataframe tbody tr th {\n",
       "        vertical-align: top;\n",
       "    }\n",
       "\n",
       "    .dataframe thead th {\n",
       "        text-align: right;\n",
       "    }\n",
       "</style>\n",
       "<table border=\"1\" class=\"dataframe\">\n",
       "  <thead>\n",
       "    <tr style=\"text-align: right;\">\n",
       "      <th></th>\n",
       "      <th>subject_id</th>\n",
       "      <th>age</th>\n",
       "    </tr>\n",
       "  </thead>\n",
       "  <tbody>\n",
       "    <tr>\n",
       "      <th>1</th>\n",
       "      <td>10011</td>\n",
       "      <td>36</td>\n",
       "    </tr>\n",
       "    <tr>\n",
       "      <th>25</th>\n",
       "      <td>10067</td>\n",
       "      <td>29</td>\n",
       "    </tr>\n",
       "    <tr>\n",
       "      <th>34</th>\n",
       "      <td>10090</td>\n",
       "      <td>30</td>\n",
       "    </tr>\n",
       "    <tr>\n",
       "      <th>38</th>\n",
       "      <td>10098</td>\n",
       "      <td>20</td>\n",
       "    </tr>\n",
       "    <tr>\n",
       "      <th>50</th>\n",
       "      <td>10120</td>\n",
       "      <td>27</td>\n",
       "    </tr>\n",
       "  </tbody>\n",
       "</table>\n",
       "</div>"
      ],
      "text/plain": [
       "    subject_id  age\n",
       "1        10011   36\n",
       "25       10067   29\n",
       "34       10090   30\n",
       "38       10098   20\n",
       "50       10120   27"
      ]
     },
     "execution_count": 22,
     "metadata": {},
     "output_type": "execute_result"
    }
   ],
   "source": [
    "# IQR method for detecting outliers in age\n",
    "Q1 = df['age'].quantile(0.25)\n",
    "Q3 = df['age'].quantile(0.75)\n",
    "IQR = Q3 - Q1\n",
    "\n",
    "# Define outlier boundaries\n",
    "lower_bound = Q1 - 1.5 * IQR\n",
    "upper_bound = Q3 + 1.5 * IQR\n",
    "\n",
    "# Filter outliers\n",
    "age_outliers = df[(df['age'] < lower_bound) | (df['age'] > upper_bound)]\n",
    "\n",
    "# Show number of outliers and examples\n",
    "print(f\"Number of age outliers: {len(age_outliers)}\")\n",
    "age_outliers[['subject_id', 'age']].head()\n"
   ]
  },
  {
   "cell_type": "markdown",
   "id": "20041d4d-00a9-45c0-9213-19a4494816d8",
   "metadata": {},
   "source": [
    "This is an exception according to statistics, but we will leave the data because we know the reality and that is okay."
   ]
  },
  {
   "cell_type": "markdown",
   "id": "77317347-16e3-40da-82d7-510c3240b126",
   "metadata": {},
   "source": [
    "#### Outliers Detection - Potassium level"
   ]
  },
  {
   "cell_type": "code",
   "execution_count": 23,
   "id": "5458ce18-fd30-4aa5-8a33-4967b62c917b",
   "metadata": {},
   "outputs": [
    {
     "data": {
      "image/png": "[encoded data removed]",
      "text/plain": [
       "<Figure size 1800x400 with 5 Axes>"
      ]
     },
     "metadata": {},
     "output_type": "display_data"
    }
   ],
   "source": [
    "# Define all potassium features\n",
    "columns = [\"first_potassium\", \"mean_potassium\", \"median_potassium\", \"last_potassium\", \"max_potassium\"]\n",
    "fig, axes = plt.subplots(1, 5, figsize=(18, 4))  \n",
    "axes = axes.flatten()\n",
    "for i, col in enumerate(columns):\n",
    "    sns.boxplot(x=df[col], ax=axes[i], color=\"skyblue\")\n",
    "    axes[i].set_title(f\"Boxplot of {col}\", fontsize=10)\n",
    "    axes[i].set_xlabel('')\n",
    "\n",
    "plt.suptitle(\"Potassium Level Distributions\", fontsize=14)\n",
    "plt.tight_layout()\n",
    "plt.show()\n"
   ]
  },
  {
   "cell_type": "markdown",
   "id": "9ae6aaba-3b6f-4d42-a4bd-7e03e35a1442",
   "metadata": {},
   "source": [
    "We will check for exceptions in the parameters that interest us."
   ]
  },
  {
   "cell_type": "code",
   "execution_count": 24,
   "id": "42c56e5f-bce5-47ad-9b15-0bcb839b6c22",
   "metadata": {},
   "outputs": [
    {
     "name": "stdout",
     "output_type": "stream",
     "text": [
      "Total outlier rows found: 10\n"
     ]
    },
    {
     "data": {
      "text/html": [
       "<div>\n",
       "<style scoped>\n",
       "    .dataframe tbody tr th:only-of-type {\n",
       "        vertical-align: middle;\n",
       "    }\n",
       "\n",
       "    .dataframe tbody tr th {\n",
       "        vertical-align: top;\n",
       "    }\n",
       "\n",
       "    .dataframe thead th {\n",
       "        text-align: right;\n",
       "    }\n",
       "</style>\n",
       "<table border=\"1\" class=\"dataframe\">\n",
       "  <thead>\n",
       "    <tr style=\"text-align: right;\">\n",
       "      <th></th>\n",
       "      <th>subject_id</th>\n",
       "      <th>Outlier_Feature</th>\n",
       "      <th>died_during_icu</th>\n",
       "    </tr>\n",
       "  </thead>\n",
       "  <tbody>\n",
       "    <tr>\n",
       "      <th>28</th>\n",
       "      <td>10076</td>\n",
       "      <td>last_potassium</td>\n",
       "      <td>1</td>\n",
       "    </tr>\n",
       "    <tr>\n",
       "      <th>35</th>\n",
       "      <td>10093</td>\n",
       "      <td>last_potassium</td>\n",
       "      <td>1</td>\n",
       "    </tr>\n",
       "    <tr>\n",
       "      <th>40</th>\n",
       "      <td>10102</td>\n",
       "      <td>max_potassium</td>\n",
       "      <td>1</td>\n",
       "    </tr>\n",
       "    <tr>\n",
       "      <th>50</th>\n",
       "      <td>10120</td>\n",
       "      <td>last_potassium</td>\n",
       "      <td>1</td>\n",
       "    </tr>\n",
       "    <tr>\n",
       "      <th>55</th>\n",
       "      <td>10126</td>\n",
       "      <td>max_potassium</td>\n",
       "      <td>1</td>\n",
       "    </tr>\n",
       "    <tr>\n",
       "      <th>61</th>\n",
       "      <td>40177</td>\n",
       "      <td>last_potassium</td>\n",
       "      <td>0</td>\n",
       "    </tr>\n",
       "    <tr>\n",
       "      <th>62</th>\n",
       "      <td>40177</td>\n",
       "      <td>last_potassium</td>\n",
       "      <td>1</td>\n",
       "    </tr>\n",
       "    <tr>\n",
       "      <th>71</th>\n",
       "      <td>40503</td>\n",
       "      <td>last_potassium</td>\n",
       "      <td>1</td>\n",
       "    </tr>\n",
       "    <tr>\n",
       "      <th>94</th>\n",
       "      <td>41976</td>\n",
       "      <td>max_potassium</td>\n",
       "      <td>0</td>\n",
       "    </tr>\n",
       "    <tr>\n",
       "      <th>96</th>\n",
       "      <td>42033</td>\n",
       "      <td>last_potassium</td>\n",
       "      <td>0</td>\n",
       "    </tr>\n",
       "  </tbody>\n",
       "</table>\n",
       "</div>"
      ],
      "text/plain": [
       "    subject_id Outlier_Feature  died_during_icu\n",
       "28       10076  last_potassium                1\n",
       "35       10093  last_potassium                1\n",
       "40       10102   max_potassium                1\n",
       "50       10120  last_potassium                1\n",
       "55       10126   max_potassium                1\n",
       "61       40177  last_potassium                0\n",
       "62       40177  last_potassium                1\n",
       "71       40503  last_potassium                1\n",
       "94       41976   max_potassium                0\n",
       "96       42033  last_potassium                0"
      ]
     },
     "metadata": {},
     "output_type": "display_data"
    },
    {
     "name": "stdout",
     "output_type": "stream",
     "text": [
      "\n",
      "Removed 3 outlier rows (survivors only).\n"
     ]
    }
   ],
   "source": [
    "# Initialize rubric for any outlier\n",
    "any_outlier = pd.Series(False, index=df.index)\n",
    "\n",
    "# Columns to check for outliers\n",
    "numeric_cols = ['last_potassium', 'max_potassium']\n",
    "\n",
    "# Create column to store which feature was outlier\n",
    "outlier_details = pd.Series('', index=df.index)\n",
    "\n",
    "# Detect outliers and track the parameter\n",
    "for col in numeric_cols:\n",
    "    Q1 = df[col].quantile(0.25)\n",
    "    Q3 = df[col].quantile(0.75)\n",
    "    IQR = Q3 - Q1\n",
    "    lower = Q1 - 1.5 * IQR\n",
    "    upper = Q3 + 1.5 * IQR\n",
    "    outliers = (df[col] < lower) | (df[col] > upper)\n",
    "    any_outlier |= outliers\n",
    "    outlier_details[outliers] += f\"{col} \"\n",
    "\n",
    "# Create table of outliers and their reason\n",
    "outlier_rows = df[any_outlier].copy()\n",
    "outlier_rows['Outlier_Feature'] = outlier_details[any_outlier].str.strip()\n",
    "\n",
    "# Print results\n",
    "print(f\"Total outlier rows found: {outlier_rows.shape[0]}\")\n",
    "display(outlier_rows[['subject_id', 'Outlier_Feature', 'died_during_icu']])\n",
    "\n",
    "# Remove only survivors with outlier values\n",
    "should_remove = any_outlier & (df['died_during_icu'] == 0)\n",
    "\n",
    "# Count how many are being removed\n",
    "removed_count = should_remove.sum()\n",
    "print(f\"\\nRemoved {removed_count} outlier rows (survivors only).\")\n",
    "\n",
    "# Apply removal\n",
    "df = df[~should_remove].copy()\n"
   ]
  },
  {
   "cell_type": "markdown",
   "id": "d93c8e5b-2f30-4169-be0c-f6673269ce87",
   "metadata": {},
   "source": [
    "Because the others are all dead, we will not remove them from the data. We want the model to learn them because they are dead and have great significance for the machine learning model."
   ]
  },
  {
   "cell_type": "markdown",
   "id": "72a25e35-2aaa-47a3-96f0-7e7236c887bb",
   "metadata": {},
   "source": [
    "## Initial features distributions:"
   ]
  },
  {
   "cell_type": "markdown",
   "id": "8cc9201a-203e-4703-a990-d10c98477f22",
   "metadata": {},
   "source": [
    "### Genaral distribution:"
   ]
  },
  {
   "cell_type": "code",
   "execution_count": 25,
   "id": "24807862-486e-46d2-83fb-0f99e88c6211",
   "metadata": {},
   "outputs": [
    {
     "data": {
      "image/png": "[encoded data removed]",
      "text/plain": [
       "<Figure size 800x400 with 1 Axes>"
      ]
     },
     "metadata": {},
     "output_type": "display_data"
    }
   ],
   "source": [
    "# Map outcome labels\n",
    "outcome_map = {\n",
    "    0: 'Survived',\n",
    "    1: 'Died'\n",
    "}\n",
    "\n",
    "outcome_counts = df['died_during_icu'].map(outcome_map).value_counts().reset_index()\n",
    "outcome_counts.columns = ['Outcome', 'Count']\n",
    "plt.figure(figsize=(8, 4))\n",
    "sns.barplot(data=outcome_counts, y='Outcome', x='Count', palette='Set2')\n",
    "\n",
    "# Add count labels\n",
    "for index, row in outcome_counts.iterrows():\n",
    "    plt.text(row['Count'] + 1, index, f\"{row['Count']}\", va='center')\n",
    "\n",
    "plt.title('ICU Survival Outcome (Per Admission)')\n",
    "plt.xlabel('Number of ICU Admissions')\n",
    "plt.ylabel('Outcome')\n",
    "plt.grid(axis='x')\n",
    "plt.tight_layout()\n",
    "plt.show()\n"
   ]
  },
  {
   "cell_type": "markdown",
   "id": "8bc11ac8-cc37-456b-8a6a-7aa8ce9eede4",
   "metadata": {},
   "source": [
    "### Gender distribution:"
   ]
  },
  {
   "cell_type": "code",
   "execution_count": 26,
   "id": "73ffb118-3ad3-4eff-8c13-cb0ec6416725",
   "metadata": {},
   "outputs": [
    {
     "data": {
      "image/png": "[encoded data removed]",
      "text/plain": [
       "<Figure size 500x400 with 1 Axes>"
      ]
     },
     "metadata": {},
     "output_type": "display_data"
    }
   ],
   "source": [
    "# Plot gender distribution\n",
    "plt.figure(figsize=(5, 4))\n",
    "df['gender'].value_counts().plot(kind='bar', color=['royalblue', 'lightcoral'], edgecolor='black')\n",
    "plt.xlabel(\"Gender\", fontsize=12)\n",
    "plt.ylabel(\"Count\", fontsize=12)\n",
    "plt.title(\"Gender Distribution\", fontsize=14, fontweight='bold')\n",
    "plt.xticks(ticks=[0, 1], labels=['Male', 'Female'], rotation=0, fontsize=11)\n",
    "plt.yticks(fontsize=11)\n",
    "# Display values on top of bars\n",
    "for i, count in enumerate(df['gender'].value_counts()):\n",
    "    plt.text(i, count + 0.5, str(count), ha='center', fontsize=10, fontweight='bold')\n",
    "plt.show()"
   ]
  },
  {
   "cell_type": "markdown",
   "id": "5b180fe6-8981-478c-bcb9-56d47a3395bb",
   "metadata": {},
   "source": [
    "### Age distribution:"
   ]
  },
  {
   "cell_type": "code",
   "execution_count": 27,
   "id": "de26b0cd-df3d-4bc5-a1d9-1c3fd4dd3a86",
   "metadata": {},
   "outputs": [
    {
     "data": {
      "image/png": "[encoded data removed]",
      "text/plain": [
       "<Figure size 640x480 with 1 Axes>"
      ]
     },
     "metadata": {},
     "output_type": "display_data"
    }
   ],
   "source": [
    "sns.histplot(df[\"age\"], kde=True, bins=10, color=\"skyblue\")\n",
    "plt.title(\"Age Distribution with KDE\")\n",
    "plt.xlabel(\"Age\")\n",
    "plt.ylabel(\"Frequency\")\n",
    "plt.show()"
   ]
  },
  {
   "cell_type": "code",
   "execution_count": 28,
   "id": "072e5cde-8d5b-4f20-beef-e41fc236bc52",
   "metadata": {},
   "outputs": [
    {
     "data": {
      "image/png": "[encoded data removed]",
      "text/plain": [
       "<Figure size 1000x500 with 1 Axes>"
      ]
     },
     "metadata": {},
     "output_type": "display_data"
    }
   ],
   "source": [
    "# Plot distribution of patients by existing 'age_group'\n",
    "age_counts = df['age_group'].value_counts().sort_index()\n",
    "\n",
    "plt.figure(figsize=(10, 5))\n",
    "sns.barplot(x=age_counts.index.astype(str), y=age_counts.values, palette='Set2')\n",
    "plt.title('Patient Distribution by Age Group', fontsize=14)\n",
    "plt.xlabel('Age Group')\n",
    "plt.ylabel('Number of Patients')\n",
    "plt.xticks(rotation=45)\n",
    "plt.grid(axis='y')\n",
    "plt.tight_layout()\n",
    "plt.show()"
   ]
  },
  {
   "cell_type": "markdown",
   "id": "c5c822d6-9cf0-4e4e-b68e-f99e9aa2b476",
   "metadata": {},
   "source": [
    "### Ethnicity distribution:"
   ]
  },
  {
   "cell_type": "code",
   "execution_count": 29,
   "id": "b6c72576-4ed4-42ab-98b3-175a641a1277",
   "metadata": {},
   "outputs": [
    {
     "data": {
      "text/plain": [
       "ethnicity\n",
       "WHITE                                                       90\n",
       "HISPANIC/LATINO - PUERTO RICAN                              14\n",
       "UNKNOWN/NOT SPECIFIED                                       11\n",
       "BLACK/AFRICAN AMERICAN                                       7\n",
       "OTHER                                                        3\n",
       "HISPANIC OR LATINO                                           3\n",
       "ASIAN                                                        2\n",
       "AMERICAN INDIAN/ALASKA NATIVE FEDERALLY RECOGNIZED TRIBE     2\n",
       "UNABLE TO OBTAIN                                             1\n",
       "Name: count, dtype: int64"
      ]
     },
     "execution_count": 29,
     "metadata": {},
     "output_type": "execute_result"
    }
   ],
   "source": [
    "df.ethnicity.value_counts()"
   ]
  },
  {
   "cell_type": "code",
   "execution_count": 30,
   "id": "0e4ac8f6-d234-4594-b9c8-3afade68b0fc",
   "metadata": {},
   "outputs": [
    {
     "data": {
      "image/png": "[encoded data removed]",
      "text/plain": [
       "<Figure size 600x400 with 1 Axes>"
      ]
     },
     "metadata": {},
     "output_type": "display_data"
    }
   ],
   "source": [
    "\n",
    "df['ethnicity_group'] = df['ethnicity'].apply(lambda x: 'White' if 'WHITE' in str(x).upper() else 'Non-White')\n",
    "\n",
    "# Plot\n",
    "plt.figure(figsize=(6, 4))\n",
    "ax = sns.countplot(data=df, x=\"ethnicity_group\", palette=\"Set2\")\n",
    "plt.title(\"Distribution of Ethnicity (White vs Non-White)\")\n",
    "plt.xlabel(\"Ethnicity Group\")\n",
    "plt.ylabel(\"Count\")\n",
    "\n",
    "for p in ax.patches:\n",
    "    height = p.get_height()\n",
    "    ax.annotate(f'{int(height)}', (p.get_x() + p.get_width() / 2, height), \n",
    "                ha='center', va='bottom', fontsize=10)\n",
    "\n",
    "plt.tight_layout()\n",
    "plt.show()\n"
   ]
  },
  {
   "cell_type": "markdown",
   "id": "b008c28a-b74f-4636-88eb-39438408cd89",
   "metadata": {},
   "source": [
    "### Potassium levels distributions:"
   ]
  },
  {
   "cell_type": "code",
   "execution_count": 31,
   "id": "4bde2b36-9f62-43f5-ae97-49e2eb154315",
   "metadata": {},
   "outputs": [
    {
     "data": {
      "image/png": "[encoded data removed]",
      "text/plain": [
       "<Figure size 1200x1200 with 6 Axes>"
      ]
     },
     "metadata": {},
     "output_type": "display_data"
    }
   ],
   "source": [
    "fig, axes = plt.subplots(3, 2, figsize=(12, 12))\n",
    "\n",
    "# First\n",
    "axes[0, 0].hist(df['first_potassium'], bins=20, color='skyblue', edgecolor='black')\n",
    "axes[0, 0].set_title('First Potassium Level')\n",
    "axes[0, 0].set_xlabel('Potassium Level (mmol/L)')\n",
    "axes[0, 0].set_ylabel('Frequency')\n",
    "\n",
    "# Mean\n",
    "axes[0, 1].hist(df['mean_potassium'], bins=20, color='lightgreen', edgecolor='black')\n",
    "axes[0, 1].set_title('Mean Potassium Level')\n",
    "axes[0, 1].set_xlabel('Potassium Level (mmol/L)')\n",
    "axes[0, 1].set_ylabel('Frequency')\n",
    "\n",
    "# Median\n",
    "axes[1, 0].hist(df['median_potassium'], bins=20, color='lightcoral', edgecolor='black')\n",
    "axes[1, 0].set_title('Median Potassium Level')\n",
    "axes[1, 0].set_xlabel('Potassium Level (mmol/L)')\n",
    "axes[1, 0].set_ylabel('Frequency')\n",
    "\n",
    "# Last\n",
    "axes[1, 1].hist(df['last_potassium'], bins=20, color='lightyellow', edgecolor='black')\n",
    "axes[1, 1].set_title('Last Potassium Level')\n",
    "axes[1, 1].set_xlabel('Potassium Level (mmol/L)')\n",
    "axes[1, 1].set_ylabel('Frequency')\n",
    "\n",
    "# Max\n",
    "axes[2, 0].hist(df['max_potassium'], bins=20, color='mediumpurple', edgecolor='black')\n",
    "axes[2, 0].set_title('Max Potassium Level')\n",
    "axes[2, 0].set_xlabel('Potassium Level (mmol/L)')\n",
    "axes[2, 0].set_ylabel('Frequency')\n",
    "\n",
    "# Hide the last empty subplot\n",
    "axes[2, 1].axis('off')\n",
    "\n",
    "plt.tight_layout()\n",
    "plt.show()\n"
   ]
  },
  {
   "cell_type": "markdown",
   "id": "c15448ac-575a-4fe4-b867-6aa788fb5629",
   "metadata": {},
   "source": [
    "* The type of distribution (normal/non-normal) will be examined later as part of statistical tests."
   ]
  },
  {
   "cell_type": "markdown",
   "id": "c7de2d92-3924-4e25-a398-c112100f999b",
   "metadata": {},
   "source": [
    "### COPD cases distribution:"
   ]
  },
  {
   "cell_type": "code",
   "execution_count": 32,
   "id": "d5841a6b-9b16-48df-b83c-87227b05854d",
   "metadata": {},
   "outputs": [
    {
     "data": {
      "image/png": "[encoded data removed]",
      "text/plain": [
       "<Figure size 600x500 with 1 Axes>"
      ]
     },
     "metadata": {},
     "output_type": "display_data"
    }
   ],
   "source": [
    "# Plot COPD distribution\n",
    "plt.figure(figsize=(6, 5))\n",
    "df['has_COPD'].value_counts().plot(kind='bar', color=['green', 'navy'], edgecolor='black')\n",
    "plt.xlabel(\"Has COPD\", fontsize=12)\n",
    "plt.ylabel(\"Count\", fontsize=12)\n",
    "plt.title(\"COPD Cases Distribution\", fontsize=12, fontweight='bold')\n",
    "plt.xticks(ticks=[0, 1], labels=['No', 'Yes'], rotation=0, fontsize=11)\n",
    "plt.yticks(fontsize=10)\n",
    "# Display values on top of bars\n",
    "for i, count in enumerate(df['has_COPD'].value_counts()):\n",
    "    plt.text(i, count + 1, str(count), ha='center', fontsize=8, fontweight='bold')\n",
    "plt.show()"
   ]
  },
  {
   "cell_type": "markdown",
   "id": "48d8ead7-72f5-4a44-9bc1-b7e08c6c6d48",
   "metadata": {},
   "source": [
    "### Target variable - death during ICU distribution:"
   ]
  },
  {
   "cell_type": "code",
   "execution_count": 33,
   "id": "c4ff3590-bd32-4944-a2d0-2c658d729ed6",
   "metadata": {},
   "outputs": [
    {
     "name": "stdout",
     "output_type": "stream",
     "text": [
      "died_during_icu\n",
      "0    104\n",
      "1     29\n",
      "Name: count, dtype: int64 \n",
      "\n"
     ]
    },
    {
     "data": {
      "image/png": "[encoded data removed]",
      "text/plain": [
       "<Figure size 640x480 with 1 Axes>"
      ]
     },
     "metadata": {},
     "output_type": "display_data"
    }
   ],
   "source": [
    "print(df.died_during_icu.value_counts(), \"\\n\")\n",
    "\n",
    "# Count the number of each class\n",
    "class_counts = df['died_during_icu'].value_counts()\n",
    "sns.countplot(x='died_during_icu', data=df)\n",
    "total = len(df)\n",
    "for p in plt.gca().patches:\n",
    "    height = p.get_height()\n",
    "    plt.gca().text(p.get_x() + p.get_width() / 2., height + 1, f'{height / total * 100:.2f}%', ha='center')\n",
    "plt.title('Distribution of Died During ICU')\n",
    "plt.xlabel('Died During ICU (0 = No, 1 = Yes)')\n",
    "plt.ylabel('Count')\n",
    "plt.show()"
   ]
  },
  {
   "cell_type": "markdown",
   "id": "69d88898-195e-457a-a154-d9d1c0f4e8c3",
   "metadata": {},
   "source": [
    "---\n",
    "---\n",
    "---"
   ]
  },
  {
   "cell_type": "markdown",
   "id": "c5536dae-4187-4f2e-a810-a3b346466729",
   "metadata": {},
   "source": [
    "# Relationship Analysis"
   ]
  },
  {
   "cell_type": "code",
   "execution_count": 34,
   "id": "c25fef0d-8144-4d12-9093-6c8071eeda4e",
   "metadata": {},
   "outputs": [
    {
     "data": {
      "text/plain": [
       "(133, 15)"
      ]
     },
     "execution_count": 34,
     "metadata": {},
     "output_type": "execute_result"
    }
   ],
   "source": [
    "df.shape"
   ]
  },
  {
   "cell_type": "code",
   "execution_count": 35,
   "id": "f4c25d26-3cc7-4b3b-88da-98fd2340afe5",
   "metadata": {},
   "outputs": [
    {
     "data": {
      "text/html": [
       "<div>\n",
       "<style scoped>\n",
       "    .dataframe tbody tr th:only-of-type {\n",
       "        vertical-align: middle;\n",
       "    }\n",
       "\n",
       "    .dataframe tbody tr th {\n",
       "        vertical-align: top;\n",
       "    }\n",
       "\n",
       "    .dataframe thead th {\n",
       "        text-align: right;\n",
       "    }\n",
       "</style>\n",
       "<table border=\"1\" class=\"dataframe\">\n",
       "  <thead>\n",
       "    <tr style=\"text-align: right;\">\n",
       "      <th></th>\n",
       "      <th>subject_id</th>\n",
       "      <th>hadm_id</th>\n",
       "      <th>icustay_id</th>\n",
       "      <th>gender</th>\n",
       "      <th>age</th>\n",
       "      <th>age_group</th>\n",
       "      <th>ethnicity</th>\n",
       "      <th>died_during_icu</th>\n",
       "      <th>first_potassium</th>\n",
       "      <th>mean_potassium</th>\n",
       "      <th>median_potassium</th>\n",
       "      <th>last_potassium</th>\n",
       "      <th>max_potassium</th>\n",
       "      <th>has_COPD</th>\n",
       "      <th>ethnicity_group</th>\n",
       "    </tr>\n",
       "  </thead>\n",
       "  <tbody>\n",
       "    <tr>\n",
       "      <th>0</th>\n",
       "      <td>10006</td>\n",
       "      <td>142345</td>\n",
       "      <td>206504</td>\n",
       "      <td>F</td>\n",
       "      <td>71</td>\n",
       "      <td>71-80</td>\n",
       "      <td>BLACK/AFRICAN AMERICAN</td>\n",
       "      <td>0</td>\n",
       "      <td>6.0</td>\n",
       "      <td>4.575000</td>\n",
       "      <td>4.50</td>\n",
       "      <td>3.9</td>\n",
       "      <td>6.0</td>\n",
       "      <td>0</td>\n",
       "      <td>Non-White</td>\n",
       "    </tr>\n",
       "    <tr>\n",
       "      <th>1</th>\n",
       "      <td>10011</td>\n",
       "      <td>105331</td>\n",
       "      <td>232110</td>\n",
       "      <td>F</td>\n",
       "      <td>36</td>\n",
       "      <td>31-40</td>\n",
       "      <td>UNKNOWN/NOT SPECIFIED</td>\n",
       "      <td>1</td>\n",
       "      <td>5.9</td>\n",
       "      <td>3.986364</td>\n",
       "      <td>3.85</td>\n",
       "      <td>4.6</td>\n",
       "      <td>5.9</td>\n",
       "      <td>0</td>\n",
       "      <td>Non-White</td>\n",
       "    </tr>\n",
       "    <tr>\n",
       "      <th>2</th>\n",
       "      <td>10013</td>\n",
       "      <td>165520</td>\n",
       "      <td>264446</td>\n",
       "      <td>F</td>\n",
       "      <td>87</td>\n",
       "      <td>81-90</td>\n",
       "      <td>UNKNOWN/NOT SPECIFIED</td>\n",
       "      <td>1</td>\n",
       "      <td>4.2</td>\n",
       "      <td>4.150000</td>\n",
       "      <td>4.15</td>\n",
       "      <td>4.1</td>\n",
       "      <td>4.2</td>\n",
       "      <td>0</td>\n",
       "      <td>Non-White</td>\n",
       "    </tr>\n",
       "    <tr>\n",
       "      <th>3</th>\n",
       "      <td>10017</td>\n",
       "      <td>199207</td>\n",
       "      <td>204881</td>\n",
       "      <td>F</td>\n",
       "      <td>77</td>\n",
       "      <td>71-80</td>\n",
       "      <td>WHITE</td>\n",
       "      <td>0</td>\n",
       "      <td>4.7</td>\n",
       "      <td>3.700000</td>\n",
       "      <td>3.75</td>\n",
       "      <td>3.9</td>\n",
       "      <td>4.7</td>\n",
       "      <td>1</td>\n",
       "      <td>White</td>\n",
       "    </tr>\n",
       "    <tr>\n",
       "      <th>4</th>\n",
       "      <td>10019</td>\n",
       "      <td>177759</td>\n",
       "      <td>228977</td>\n",
       "      <td>M</td>\n",
       "      <td>48</td>\n",
       "      <td>41-50</td>\n",
       "      <td>WHITE</td>\n",
       "      <td>1</td>\n",
       "      <td>3.3</td>\n",
       "      <td>4.400000</td>\n",
       "      <td>3.60</td>\n",
       "      <td>5.2</td>\n",
       "      <td>6.3</td>\n",
       "      <td>0</td>\n",
       "      <td>White</td>\n",
       "    </tr>\n",
       "  </tbody>\n",
       "</table>\n",
       "</div>"
      ],
      "text/plain": [
       "   subject_id  hadm_id  icustay_id gender  age age_group  \\\n",
       "0       10006   142345      206504      F   71     71-80   \n",
       "1       10011   105331      232110      F   36     31-40   \n",
       "2       10013   165520      264446      F   87     81-90   \n",
       "3       10017   199207      204881      F   77     71-80   \n",
       "4       10019   177759      228977      M   48     41-50   \n",
       "\n",
       "                ethnicity  died_during_icu  first_potassium  mean_potassium  \\\n",
       "0  BLACK/AFRICAN AMERICAN                0              6.0        4.575000   \n",
       "1   UNKNOWN/NOT SPECIFIED                1              5.9        3.986364   \n",
       "2   UNKNOWN/NOT SPECIFIED                1              4.2        4.150000   \n",
       "3                   WHITE                0              4.7        3.700000   \n",
       "4                   WHITE                1              3.3        4.400000   \n",
       "\n",
       "   median_potassium  last_potassium  max_potassium  has_COPD ethnicity_group  \n",
       "0              4.50             3.9            6.0         0       Non-White  \n",
       "1              3.85             4.6            5.9         0       Non-White  \n",
       "2              4.15             4.1            4.2         0       Non-White  \n",
       "3              3.75             3.9            4.7         1           White  \n",
       "4              3.60             5.2            6.3         0           White  "
      ]
     },
     "execution_count": 35,
     "metadata": {},
     "output_type": "execute_result"
    }
   ],
   "source": [
    "df.head()"
   ]
  },
  {
   "cell_type": "markdown",
   "id": "f4c7795f-c673-4d93-bfb2-d8034cecf091",
   "metadata": {},
   "source": [
    "---"
   ]
  },
  {
   "cell_type": "markdown",
   "id": "2762e061-fc98-4e5c-90db-29af204216fd",
   "metadata": {},
   "source": [
    "## Ethnicity Group vs. ICU death"
   ]
  },
  {
   "cell_type": "markdown",
   "id": "de8c0af5-912e-407c-ac06-9b544f0d8492",
   "metadata": {},
   "source": [
    "We tested whether ethnicity (White vs Non-White) is associated with ICU survival using a Chi-Square test."
   ]
  },
  {
   "cell_type": "code",
   "execution_count": 36,
   "id": "6ad2f288-1269-46e3-982b-1f3af45caf82",
   "metadata": {},
   "outputs": [
    {
     "data": {
      "text/html": [
       "<div>\n",
       "<style scoped>\n",
       "    .dataframe tbody tr th:only-of-type {\n",
       "        vertical-align: middle;\n",
       "    }\n",
       "\n",
       "    .dataframe tbody tr th {\n",
       "        vertical-align: top;\n",
       "    }\n",
       "\n",
       "    .dataframe thead th {\n",
       "        text-align: right;\n",
       "    }\n",
       "</style>\n",
       "<table border=\"1\" class=\"dataframe\">\n",
       "  <thead>\n",
       "    <tr style=\"text-align: right;\">\n",
       "      <th></th>\n",
       "      <th>Statistic</th>\n",
       "      <th>Degrees of Freedom</th>\n",
       "      <th>P-value</th>\n",
       "    </tr>\n",
       "  </thead>\n",
       "  <tbody>\n",
       "    <tr>\n",
       "      <th>0</th>\n",
       "      <td>0.003102</td>\n",
       "      <td>1</td>\n",
       "      <td>0.955582</td>\n",
       "    </tr>\n",
       "  </tbody>\n",
       "</table>\n",
       "</div>"
      ],
      "text/plain": [
       "   Statistic  Degrees of Freedom   P-value\n",
       "0   0.003102                   1  0.955582"
      ]
     },
     "execution_count": 36,
     "metadata": {},
     "output_type": "execute_result"
    }
   ],
   "source": [
    "contingency_table = pd.crosstab(df['ethnicity_group'], df['died_during_icu'])\n",
    "chi2, p, dof, expected = chi2_contingency(contingency_table)\n",
    "\n",
    "chi_square_results = pd.DataFrame({\n",
    "    'Statistic': [chi2],\n",
    "    'Degrees of Freedom': [dof],\n",
    "    'P-value': [p]\n",
    "})\n",
    "\n",
    "chi_square_results\n"
   ]
  },
  {
   "cell_type": "markdown",
   "id": "95da353f-a631-4af0-9831-538dd6292d74",
   "metadata": {},
   "source": [
    "\n",
    "\n",
    "The Chi-Square test result suggests that the proportion of survival\n",
    "and death was nearly identical between White and Non-White groups, indicating\n",
    "no meaningful difference beyond what would be expected by chance."
   ]
  },
  {
   "cell_type": "markdown",
   "id": "8193cc2d-8550-476f-a36c-ba9bda9f4296",
   "metadata": {},
   "source": [
    "---"
   ]
  },
  {
   "cell_type": "markdown",
   "id": "cc5797de-42ac-415d-8e9b-a4cb79b5e566",
   "metadata": {},
   "source": [
    "## Age vs. ICU death"
   ]
  },
  {
   "cell_type": "markdown",
   "id": "08c58897-027d-4fd3-bf2b-a32aa4989555",
   "metadata": {},
   "source": [
    "First, we used the Shapiro-Wilk test to assess whether the age data in each group followed a normal distribution."
   ]
  },
  {
   "cell_type": "code",
   "execution_count": 37,
   "id": "87d27728-194f-4dd9-bce6-4abccac3bfe0",
   "metadata": {},
   "outputs": [
    {
     "data": {
      "text/html": [
       "<div>\n",
       "<style scoped>\n",
       "    .dataframe tbody tr th:only-of-type {\n",
       "        vertical-align: middle;\n",
       "    }\n",
       "\n",
       "    .dataframe tbody tr th {\n",
       "        vertical-align: top;\n",
       "    }\n",
       "\n",
       "    .dataframe thead th {\n",
       "        text-align: right;\n",
       "    }\n",
       "</style>\n",
       "<table border=\"1\" class=\"dataframe\">\n",
       "  <thead>\n",
       "    <tr style=\"text-align: right;\">\n",
       "      <th></th>\n",
       "      <th>Group</th>\n",
       "      <th>Shapiro Statistic</th>\n",
       "      <th>P-Value</th>\n",
       "    </tr>\n",
       "  </thead>\n",
       "  <tbody>\n",
       "    <tr>\n",
       "      <th>0</th>\n",
       "      <td>Survived</td>\n",
       "      <td>0.957917</td>\n",
       "      <td>0.002244</td>\n",
       "    </tr>\n",
       "    <tr>\n",
       "      <th>1</th>\n",
       "      <td>Died</td>\n",
       "      <td>0.894438</td>\n",
       "      <td>0.007228</td>\n",
       "    </tr>\n",
       "  </tbody>\n",
       "</table>\n",
       "</div>"
      ],
      "text/plain": [
       "      Group  Shapiro Statistic   P-Value\n",
       "0  Survived           0.957917  0.002244\n",
       "1      Died           0.894438  0.007228"
      ]
     },
     "execution_count": 37,
     "metadata": {},
     "output_type": "execute_result"
    }
   ],
   "source": [
    "from scipy.stats import shapiro\n",
    "\n",
    "shapiro_survived = shapiro(df[df['died_during_icu'] == 0]['age'])\n",
    "shapiro_died = shapiro(df[df['died_during_icu'] == 1]['age'])\n",
    "\n",
    "shapiro_results = pd.DataFrame({\n",
    "    'Group': ['Survived', 'Died'],\n",
    "    'Shapiro Statistic': [shapiro_survived.statistic, shapiro_died.statistic],\n",
    "    'P-Value': [shapiro_survived.pvalue, shapiro_died.pvalue]\n",
    "})\n",
    "\n",
    "shapiro_results"
   ]
  },
  {
   "cell_type": "markdown",
   "id": "3044a315-45a0-44fd-ad9b-056c434492f3",
   "metadata": {},
   "source": [
    "Since the Shapiro-Wilk test returned a p-value of 0.0072, we reject the null hypothesis of normality. The age distribution in this group is not normal.\n",
    "\n"
   ]
  },
  {
   "cell_type": "markdown",
   "id": "74a398dc-6616-4486-8cd4-813ea058aa78",
   "metadata": {},
   "source": [
    "Therefore, due to the non-normal distribution of age, we used the non-parametric Mann-Whitney U test to compare the age between the two outcome groups"
   ]
  },
  {
   "cell_type": "code",
   "execution_count": 38,
   "id": "a099de0b-f08d-43c2-abbc-3028d5cf16d5",
   "metadata": {},
   "outputs": [
    {
     "data": {
      "text/html": [
       "<div>\n",
       "<style scoped>\n",
       "    .dataframe tbody tr th:only-of-type {\n",
       "        vertical-align: middle;\n",
       "    }\n",
       "\n",
       "    .dataframe tbody tr th {\n",
       "        vertical-align: top;\n",
       "    }\n",
       "\n",
       "    .dataframe thead th {\n",
       "        text-align: right;\n",
       "    }\n",
       "</style>\n",
       "<table border=\"1\" class=\"dataframe\">\n",
       "  <thead>\n",
       "    <tr style=\"text-align: right;\">\n",
       "      <th></th>\n",
       "      <th>Test</th>\n",
       "      <th>U Statistic</th>\n",
       "      <th>P-Value</th>\n",
       "    </tr>\n",
       "  </thead>\n",
       "  <tbody>\n",
       "    <tr>\n",
       "      <th>0</th>\n",
       "      <td>Mann-Whitney U</td>\n",
       "      <td>1520.5</td>\n",
       "      <td>0.947779</td>\n",
       "    </tr>\n",
       "  </tbody>\n",
       "</table>\n",
       "</div>"
      ],
      "text/plain": [
       "             Test  U Statistic   P-Value\n",
       "0  Mann-Whitney U       1520.5  0.947779"
      ]
     },
     "execution_count": 38,
     "metadata": {},
     "output_type": "execute_result"
    }
   ],
   "source": [
    "from scipy.stats import mannwhitneyu\n",
    "survived = df[df['died_during_icu'] == 0]['age']\n",
    "died = df[df['died_during_icu'] == 1]['age']\n",
    "stat, p_value = mannwhitneyu(survived, died, alternative='two-sided')\n",
    "mannwhitney_results = pd.DataFrame({\n",
    "    'Test': ['Mann-Whitney U'],\n",
    "    'U Statistic': [stat],\n",
    "    'P-Value': [p_value]\n",
    "})\n",
    "\n",
    "mannwhitney_results\n",
    "\n"
   ]
  },
  {
   "cell_type": "markdown",
   "id": "8fcf7736-1196-4891-a7a5-d9b5ac57da1e",
   "metadata": {},
   "source": [
    "No statistically significant difference in age was found between patients who survived and those who died during ICU stay (Mann-Whitney U test, p = 0.9173)."
   ]
  },
  {
   "cell_type": "code",
   "execution_count": 39,
   "id": "ca880941-691c-4b85-a6e6-36afea722d5b",
   "metadata": {},
   "outputs": [
    {
     "name": "stdout",
     "output_type": "stream",
     "text": [
      "Correlation between age group and ICU mortality: -0.130\n"
     ]
    }
   ],
   "source": [
    "# Convert 'age_group' to a numeric start value for correlation\n",
    "def get_age_start(val):\n",
    "    try:\n",
    "        return int(str(val).split('-')[0])\n",
    "    except:\n",
    "        return None\n",
    "\n",
    "df['age_group_numeric'] = df['age_group'].apply(get_age_start)\n",
    "\n",
    "# Calculate correlation\n",
    "correlation = df[['age_group_numeric', 'died_during_icu']].corr().iloc[0,1]\n",
    "print(f\"Correlation between age group and ICU mortality: {correlation:.3f}\")"
   ]
  },
  {
   "cell_type": "markdown",
   "id": "96c8bf21-bbdf-4004-82a2-735c4750738b",
   "metadata": {},
   "source": [
    "As we expected and saw with age without the groups - there is no correlation between survival and age groups"
   ]
  },
  {
   "cell_type": "markdown",
   "id": "2938ed53-2528-4e35-8637-9aa4e8c1a989",
   "metadata": {},
   "source": [
    "---"
   ]
  },
  {
   "cell_type": "markdown",
   "id": "170b4077-cae1-427f-a719-3287439f58e8",
   "metadata": {},
   "source": [
    "## Gender vs. ICU death"
   ]
  },
  {
   "cell_type": "code",
   "execution_count": 40,
   "id": "c7543228-417f-44dd-bc08-92c7320d16a6",
   "metadata": {},
   "outputs": [
    {
     "data": {
      "image/png": "[encoded data removed]",
      "text/plain": [
       "<Figure size 800x500 with 1 Axes>"
      ]
     },
     "metadata": {},
     "output_type": "display_data"
    },
    {
     "data": {
      "text/html": [
       "<div>\n",
       "<style scoped>\n",
       "    .dataframe tbody tr th:only-of-type {\n",
       "        vertical-align: middle;\n",
       "    }\n",
       "\n",
       "    .dataframe tbody tr th {\n",
       "        vertical-align: top;\n",
       "    }\n",
       "\n",
       "    .dataframe thead th {\n",
       "        text-align: right;\n",
       "    }\n",
       "</style>\n",
       "<table border=\"1\" class=\"dataframe\">\n",
       "  <thead>\n",
       "    <tr style=\"text-align: right;\">\n",
       "      <th>died_during_icu</th>\n",
       "      <th>0</th>\n",
       "      <th>1</th>\n",
       "    </tr>\n",
       "    <tr>\n",
       "      <th>gender</th>\n",
       "      <th></th>\n",
       "      <th></th>\n",
       "    </tr>\n",
       "  </thead>\n",
       "  <tbody>\n",
       "    <tr>\n",
       "      <th>F</th>\n",
       "      <td>47</td>\n",
       "      <td>15</td>\n",
       "    </tr>\n",
       "    <tr>\n",
       "      <th>M</th>\n",
       "      <td>57</td>\n",
       "      <td>14</td>\n",
       "    </tr>\n",
       "  </tbody>\n",
       "</table>\n",
       "</div>"
      ],
      "text/plain": [
       "died_during_icu   0   1\n",
       "gender                 \n",
       "F                47  15\n",
       "M                57  14"
      ]
     },
     "execution_count": 40,
     "metadata": {},
     "output_type": "execute_result"
    }
   ],
   "source": [
    "gender_death = df.groupby(['gender', 'died_during_icu']).size().unstack()\n",
    "\n",
    "gender_death.plot(kind='bar', stacked=True, figsize=(8, 5), color=['#66b3ff', '#ff9999'])\n",
    "plt.title('Death During ICU by Gender', fontsize=14)\n",
    "plt.xlabel('Gender', fontsize=12)\n",
    "plt.ylabel('Count', fontsize=12)\n",
    "plt.xticks(rotation=0)\n",
    "plt.legend(['Survived', 'Died'], title='Outcome')\n",
    "plt.show()\n",
    "gender_death"
   ]
  },
  {
   "cell_type": "code",
   "execution_count": 41,
   "id": "8d1306e6-7ac0-4a95-8a14-f6a68742745e",
   "metadata": {},
   "outputs": [
    {
     "data": {
      "image/png": "[encoded data removed]",
      "text/plain": [
       "<Figure size 800x600 with 2 Axes>"
      ]
     },
     "metadata": {},
     "output_type": "display_data"
    }
   ],
   "source": [
    "import matplotlib.pyplot as plt\n",
    "from PIL import Image\n",
    "import numpy as np\n",
    "# Extract survival rate per gender from gender_death table\n",
    "gender_survival = (gender_death[0] / gender_death.sum(axis=1)).to_dict()\n",
    "\n",
    "icon_paths = {\n",
    "    'M': 'man.png',\n",
    "    'F': 'woman.png'\n",
    "}\n",
    "\n",
    "# Plot\n",
    "fill_color = (70, 130, 180, 255)  # steelblue\n",
    "fig, axs = plt.subplots(1, 2, figsize=(8, 6))\n",
    "\n",
    "for i, gender in enumerate(['M', 'F']):\n",
    "    ax = axs[i]\n",
    "    img = Image.open(icon_paths[gender]).convert(\"RGBA\")\n",
    "    img_array = np.array(img)\n",
    "\n",
    "    colored_img = img_array.copy()\n",
    "    height = img_array.shape[0]\n",
    "    cutoff = int(height * (1 - gender_survival[gender]))\n",
    "    mask = img_array[..., 3] > 0  # where image is not transparent\n",
    "\n",
    "    for y in range(cutoff, height):\n",
    "        for x in range(img_array.shape[1]):\n",
    "            if mask[y, x]:\n",
    "                colored_img[y, x] = fill_color\n",
    "\n",
    "    ax.imshow(colored_img)\n",
    "    ax.axis('off')\n",
    "    ax.set_title(f\"{'Male' if gender == 'M' else 'Female'}\\n{gender_survival[gender]*100:.1f}%\", fontsize=14)\n",
    "\n",
    "plt.suptitle(\"Survival Rate by Gender\", fontsize=16)\n",
    "plt.tight_layout()\n",
    "plt.show()\n"
   ]
  },
  {
   "cell_type": "markdown",
   "id": "4f8064b0-50e0-4a0d-a9ce-b2bd9953dc84",
   "metadata": {},
   "source": [
    "#### Statistic test - Chi square for group comparison:"
   ]
  },
  {
   "cell_type": "code",
   "execution_count": 42,
   "id": "6d5128c9-5bdb-46c5-b4c9-f4db23b224b8",
   "metadata": {},
   "outputs": [
    {
     "name": "stdout",
     "output_type": "stream",
     "text": [
      "Chi-square statistic: 0.17060481686645956\n",
      "Degrees of freedom: 1\n",
      "P-value: 0.6795748462895563\n",
      "There is no significant relationship between gender and survival outcome.\n"
     ]
    }
   ],
   "source": [
    "chi2, p_value, dof, expected = stats.chi2_contingency(gender_death)\n",
    "\n",
    "print(f\"Chi-square statistic: {chi2}\")\n",
    "print(f\"Degrees of freedom: {dof}\")\n",
    "print(f\"P-value: {p_value}\")\n",
    "\n",
    "if p_value < 0.05:\n",
    "    print(\"There is a significant relationship between gender and survival outcome.\")\n",
    "else:\n",
    "    print(\"There is no significant relationship between gender and survival outcome.\")"
   ]
  },
  {
   "cell_type": "markdown",
   "id": "5e2b875e-e89a-4edc-b9a2-37e4eb4874c3",
   "metadata": {},
   "source": [
    "**we fail to reject the null hypothesis, meaning patient gender does not significantly affect the death outcome.**"
   ]
  },
  {
   "cell_type": "code",
   "execution_count": 43,
   "id": "2a146f52-cbef-4b08-a147-72b38813e1dc",
   "metadata": {},
   "outputs": [
    {
     "data": {
      "text/plain": [
       "<Figure size 1000x600 with 0 Axes>"
      ]
     },
     "metadata": {},
     "output_type": "display_data"
    },
    {
     "data": {
      "image/png": "[encoded data removed]",
      "text/plain": [
       "<Figure size 640x480 with 1 Axes>"
      ]
     },
     "metadata": {},
     "output_type": "display_data"
    }
   ],
   "source": [
    "gender_age = pd.crosstab([df['gender'], df['died_during_icu']], df['age_group'])\n",
    "plt.figure(figsize=(10, 6))\n",
    "gender_age.plot(kind='bar', stacked=True, colormap='viridis')\n",
    "plt.title('Patient Distribution by Gender, Age Group, and ICU Outcome', fontsize=14)\n",
    "plt.xlabel('Gender and Outcome (0 = Survived, 1 = Died)')\n",
    "plt.ylabel('Number of Patients')\n",
    "plt.legend(title='Age Group')\n",
    "plt.tight_layout()\n",
    "plt.show()\n"
   ]
  },
  {
   "cell_type": "markdown",
   "id": "69cdc872-dff6-4043-9f73-116623ac243b",
   "metadata": {},
   "source": [
    "---"
   ]
  },
  {
   "cell_type": "markdown",
   "id": "28a9889f-678d-4cec-86e7-b31dc331d6ab",
   "metadata": {},
   "source": [
    "## COPD Status:"
   ]
  },
  {
   "cell_type": "code",
   "execution_count": 44,
   "id": "6792cc49-739a-453f-81b2-246837a0e771",
   "metadata": {},
   "outputs": [
    {
     "data": {
      "image/png": "[encoded data removed]",
      "text/plain": [
       "<Figure size 800x600 with 1 Axes>"
      ]
     },
     "metadata": {},
     "output_type": "display_data"
    }
   ],
   "source": [
    "proportions_copd = df.groupby('has_COPD')['died_during_icu'].value_counts().unstack()\n",
    "ax = proportions_copd.plot(kind='bar', stacked=True, figsize=(8, 6), color=['#66b3ff', '#ff9999'])\n",
    "\n",
    "plt.title('Proportion of Died/Survived by COPD Status', fontsize=12)\n",
    "plt.xlabel('COPD Status', fontsize=12)\n",
    "plt.ylabel('Count', fontsize=12)\n",
    "plt.xticks([0, 1], ['No COPD', 'Has COPD'], rotation=0)\n",
    "plt.legend(['Survived', 'Died'], title='Outcome')\n",
    "\n",
    "# Add text labels\n",
    "for i, (index, row) in enumerate(proportions_copd.iterrows()):\n",
    "    bottom = 0\n",
    "    for outcome, value in row.items():\n",
    "        ax.text(i, bottom + value / 2, f'{int(value)}', ha='center', va='center', fontsize=10)\n",
    "        bottom += value\n",
    "\n",
    "plt.tight_layout()\n",
    "plt.show()\n"
   ]
  },
  {
   "cell_type": "markdown",
   "id": "dfa6b7d4-16e4-41e3-ac93-5e7718958a5c",
   "metadata": {},
   "source": [
    "#### Statistic test (Z) - proportion of death rgarding COPD cases:"
   ]
  },
  {
   "cell_type": "code",
   "execution_count": 45,
   "id": "81f574ef-9d7b-4115-9a8d-36351332c4fc",
   "metadata": {},
   "outputs": [
    {
     "name": "stdout",
     "output_type": "stream",
     "text": [
      "Z-statistic: -0.08573033616722678\n",
      "P-value: 0.9316807861246019\n",
      "There is no statistically significant difference in death outcomes based on COPD status (Fail to reject the null hypothesis).\n"
     ]
    }
   ],
   "source": [
    "# Count the deaths and survivors for both groups\n",
    "death_copd = df[df['has_COPD'] == 1]['died_during_icu'].sum()\n",
    "total_copd = len(df[df['has_COPD'] == 1])\n",
    "\n",
    "death_no_copd = df[df['has_COPD'] == 0]['died_during_icu'].sum()\n",
    "total_no_copd = len(df[df['has_COPD'] == 0])\n",
    "\n",
    "p1 = death_copd / total_copd  # Proportion of deaths in COPD group\n",
    "p2 = death_no_copd / total_no_copd  # Proportion of deaths in non-COPD group\n",
    "\n",
    "p_combined = (death_copd + death_no_copd) / (total_copd + total_no_copd) # Combined proportion\n",
    "se = np.sqrt(p_combined * (1 - p_combined) * (1 / total_copd + 1 / total_no_copd)) # Standard error for the difference in proportions\n",
    "z = (p1 - p2) / se # Z-test statistic\n",
    "p_value = 2 * (1 - stats.norm.cdf(abs(z))) # Calculate p-value (two-tailed test)\n",
    "\n",
    "print(f\"Z-statistic: {z}\")\n",
    "print(f\"P-value: {p_value}\")\n",
    "\n",
    "if p_value < 0.05:\n",
    "    print(\"There is a statistically significant difference in death outcomes based on COPD status (Reject the null hypothesis).\")\n",
    "else:\n",
    "    print(\"There is no statistically significant difference in death outcomes based on COPD status (Fail to reject the null hypothesis).\")\n"
   ]
  },
  {
   "cell_type": "markdown",
   "id": "482d7470-7a32-4cb8-b7da-94a10de77aab",
   "metadata": {},
   "source": [
    "**we fail to reject the null hypothesis, meaning COPD status does not significantly affect the death outcome.**"
   ]
  },
  {
   "cell_type": "markdown",
   "id": "fbc99d03-f737-41ed-bcc7-fafa2dd7e39a",
   "metadata": {},
   "source": [
    "Fisher’s Exact Test: COPD Status vs. ICU Mortality\n",
    "We used Fisher’s Exact Test because the COPD group is relatively small (only 4 deaths),\n",
    "which may violate the assumptions of other tests like the Chi-Square or Z-test.\n",
    "This test is more accurate for small sample sizes."
   ]
  },
  {
   "cell_type": "code",
   "execution_count": 46,
   "id": "b74d0ab1-29d3-4bd3-83ca-4a811c234bf3",
   "metadata": {},
   "outputs": [
    {
     "name": "stdout",
     "output_type": "stream",
     "text": [
      "Odds Ratio: 0.949\n",
      "P-value: 1.0000\n",
      "\n",
      "❌ No statistically significant association found between COPD and ICU mortality.\n"
     ]
    }
   ],
   "source": [
    "contingency_table = [[89, 25],   # No COPD\n",
    "                     [15, 4]]    # Has COPD\n",
    "odds_ratio, p_value = fisher_exact(contingency_table)\n",
    "\n",
    "print(f\"Odds Ratio: {odds_ratio:.3f}\")\n",
    "print(f\"P-value: {p_value:.4f}\")\n",
    "\n",
    "# Interpretation\n",
    "if p_value < 0.05:\n",
    "    print(\"\\n✅ Statistically significant association found between COPD and ICU mortality.\")\n",
    "else:\n",
    "    print(\"\\n❌ No statistically significant association found between COPD and ICU mortality.\")\n"
   ]
  },
  {
   "cell_type": "markdown",
   "id": "94552f91-d7d9-4e47-a65d-6156dbe0cd30",
   "metadata": {},
   "source": [
    "---"
   ]
  },
  {
   "cell_type": "markdown",
   "id": "9f55827b-d582-491a-81d6-be186b1475a5",
   "metadata": {},
   "source": [
    "## Potassium Level:"
   ]
  },
  {
   "cell_type": "markdown",
   "id": "c666b863-437d-4705-b27a-15abcf6efcec",
   "metadata": {},
   "source": [
    "\n",
    "\n",
    "Normal potassium levels in the human body typically range from **3.5 to 5.0 mmol/L**.  \n",
    "Levels outside this range can lead to serious cardiac and neuromuscular complications."
   ]
  },
  {
   "cell_type": "code",
   "execution_count": 47,
   "id": "2ad9f2db-e141-45e9-94d7-0973f63bd893",
   "metadata": {},
   "outputs": [
    {
     "data": {
      "image/png": "[encoded data removed]",
      "text/plain": [
       "<Figure size 800x500 with 1 Axes>"
      ]
     },
     "metadata": {},
     "output_type": "display_data"
    }
   ],
   "source": [
    "# Define numerical columns (excluding 'died_during_icu' from the correlation itself)\n",
    "features = ['age', 'first_potassium', 'mean_potassium', 'median_potassium', 'last_potassium', 'max_potassium']\n",
    "\n",
    "# Calculate correlations of each feature with died_during_icu\n",
    "correlations = df[features + ['died_during_icu']].corr()['died_during_icu'].drop('died_during_icu')\n",
    "\n",
    "# Plot the correlation as a bar chart\n",
    "plt.figure(figsize=(8, 5))\n",
    "sns.barplot(x=correlations.values, y=correlations.index, palette='coolwarm')\n",
    "plt.title('Correlation with ICU Mortality', fontsize=14)\n",
    "plt.xlabel('Correlation Coefficient')\n",
    "plt.ylabel('Feature')\n",
    "plt.grid(True, axis='x')\n",
    "plt.tight_layout()\n",
    "plt.show()\n"
   ]
  },
  {
   "cell_type": "markdown",
   "id": "24c5d960-8310-4ad3-978d-3898239446ad",
   "metadata": {},
   "source": [
    "The correlation matrix shows a moderate positive correlation between last_potassium and died_during_icu (r = 0.42), suggesting that higher last potassium levels may be associated with increased ICU mortality.\n",
    "Additionally, max_potassium also has a positive correlation with ICU death (r = 0.31), supporting its potential importance as a risk indicator."
   ]
  },
  {
   "cell_type": "code",
   "execution_count": 48,
   "id": "3962afec-74c4-42a1-b318-cb3593847de4",
   "metadata": {},
   "outputs": [
    {
     "data": {
      "image/png": "[encoded data removed]",
      "text/plain": [
       "<Figure size 1200x1000 with 5 Axes>"
      ]
     },
     "metadata": {},
     "output_type": "display_data"
    }
   ],
   "source": [
    "plt.figure(figsize=(12, 10))\n",
    "\n",
    "potassium_features = ['mean_potassium', 'median_potassium', 'first_potassium', 'last_potassium', 'max_potassium']\n",
    "titles = ['Mean', 'Median', 'First Measurement', 'Last Measurement', 'Max Measurement']\n",
    "\n",
    "for i, feature in enumerate(potassium_features, 1):\n",
    "    plt.subplot(3, 2, i)\n",
    "    sns.boxplot(x='died_during_icu', y=feature, data=df, palette='Set2')\n",
    "    plt.title(f'{titles[i-1]} Potassium Levels by Death Status During ICU', fontsize=10)\n",
    "    plt.xlabel('Died During ICU (0 = Survived, 1 = Died)', fontsize=8)\n",
    "    plt.ylabel(f'{titles[i-1]} Potassium Level')\n",
    "\n",
    "plt.tight_layout()\n",
    "plt.show()\n"
   ]
  },
  {
   "cell_type": "markdown",
   "id": "62c2db2e-098a-4311-9dad-b445bddf2e38",
   "metadata": {},
   "source": [
    "We applied both the Welch’s T-test and the Mann-Whitney U test to ensure the robustness of our results. The consistency between the tests strengthens our confidence in the findings, especially given the non-normal distribution of several potassium measures.\n",
    "\n"
   ]
  },
  {
   "cell_type": "code",
   "execution_count": 49,
   "id": "b43d1b08-3f2d-4d7d-81a6-088cbd58c523",
   "metadata": {},
   "outputs": [
    {
     "data": {
      "text/html": [
       "<div>\n",
       "<style scoped>\n",
       "    .dataframe tbody tr th:only-of-type {\n",
       "        vertical-align: middle;\n",
       "    }\n",
       "\n",
       "    .dataframe tbody tr th {\n",
       "        vertical-align: top;\n",
       "    }\n",
       "\n",
       "    .dataframe thead th {\n",
       "        text-align: right;\n",
       "    }\n",
       "</style>\n",
       "<table border=\"1\" class=\"dataframe\">\n",
       "  <thead>\n",
       "    <tr style=\"text-align: right;\">\n",
       "      <th></th>\n",
       "      <th>Shapiro p (Survived)</th>\n",
       "      <th>Shapiro p (Died)</th>\n",
       "      <th>Normality OK</th>\n",
       "      <th>Levene p</th>\n",
       "      <th>T-test type</th>\n",
       "      <th>T-test p</th>\n",
       "      <th>Mann-Whitney p</th>\n",
       "    </tr>\n",
       "  </thead>\n",
       "  <tbody>\n",
       "    <tr>\n",
       "      <th>mean_potassium</th>\n",
       "      <td>0.01455</td>\n",
       "      <td>0.21826</td>\n",
       "      <td>False</td>\n",
       "      <td>None</td>\n",
       "      <td>Skipped (non-normal)</td>\n",
       "      <td>None</td>\n",
       "      <td>0.07043</td>\n",
       "    </tr>\n",
       "    <tr>\n",
       "      <th>median_potassium</th>\n",
       "      <td>0.0011</td>\n",
       "      <td>0.0486</td>\n",
       "      <td>False</td>\n",
       "      <td>None</td>\n",
       "      <td>Skipped (non-normal)</td>\n",
       "      <td>None</td>\n",
       "      <td>0.33938</td>\n",
       "    </tr>\n",
       "    <tr>\n",
       "      <th>first_potassium</th>\n",
       "      <td>0.00647</td>\n",
       "      <td>0.00126</td>\n",
       "      <td>False</td>\n",
       "      <td>None</td>\n",
       "      <td>Skipped (non-normal)</td>\n",
       "      <td>None</td>\n",
       "      <td>0.30901</td>\n",
       "    </tr>\n",
       "    <tr>\n",
       "      <th>last_potassium</th>\n",
       "      <td>0.03844</td>\n",
       "      <td>0.52706</td>\n",
       "      <td>False</td>\n",
       "      <td>None</td>\n",
       "      <td>Skipped (non-normal)</td>\n",
       "      <td>None</td>\n",
       "      <td>0.00016</td>\n",
       "    </tr>\n",
       "    <tr>\n",
       "      <th>max_potassium</th>\n",
       "      <td>0.00141</td>\n",
       "      <td>0.03749</td>\n",
       "      <td>False</td>\n",
       "      <td>None</td>\n",
       "      <td>Skipped (non-normal)</td>\n",
       "      <td>None</td>\n",
       "      <td>0.0037</td>\n",
       "    </tr>\n",
       "  </tbody>\n",
       "</table>\n",
       "</div>"
      ],
      "text/plain": [
       "                 Shapiro p (Survived) Shapiro p (Died) Normality OK Levene p  \\\n",
       "mean_potassium                0.01455          0.21826        False     None   \n",
       "median_potassium               0.0011           0.0486        False     None   \n",
       "first_potassium               0.00647          0.00126        False     None   \n",
       "last_potassium                0.03844          0.52706        False     None   \n",
       "max_potassium                 0.00141          0.03749        False     None   \n",
       "\n",
       "                           T-test type T-test p Mann-Whitney p  \n",
       "mean_potassium    Skipped (non-normal)     None        0.07043  \n",
       "median_potassium  Skipped (non-normal)     None        0.33938  \n",
       "first_potassium   Skipped (non-normal)     None        0.30901  \n",
       "last_potassium    Skipped (non-normal)     None        0.00016  \n",
       "max_potassium     Skipped (non-normal)     None         0.0037  "
      ]
     },
     "metadata": {},
     "output_type": "display_data"
    }
   ],
   "source": [
    "from scipy.stats import ttest_ind, mannwhitneyu, shapiro, levene\n",
    "import pandas as pd\n",
    "\n",
    "potassium_features = ['mean_potassium', 'median_potassium', 'first_potassium', 'last_potassium', 'max_potassium']\n",
    "results = {}\n",
    "\n",
    "for feature in potassium_features: \n",
    "    survived = df[df['died_during_icu'] == 0][feature].dropna()\n",
    "    died = df[df['died_during_icu'] == 1][feature].dropna()\n",
    "    \n",
    "    # Normality tests\n",
    "    p_normal_survived = shapiro(survived).pvalue\n",
    "    p_normal_died = shapiro(died).pvalue\n",
    "    normal = (p_normal_survived > 0.05) and (p_normal_died > 0.05)\n",
    "\n",
    "    # Levene test for equal variances\n",
    "    p_levene = levene(survived, died).pvalue if normal else None\n",
    "    equal_var = p_levene > 0.05 if p_levene is not None else None\n",
    "\n",
    "    # T-test (only if both groups are normal)\n",
    "    if normal:\n",
    "        t_stat, t_p = ttest_ind(survived, died, equal_var=equal_var)\n",
    "        t_type = 'Student' if equal_var else 'Welch'\n",
    "        u_stat, u_p = None, None\n",
    "    else:\n",
    "        t_stat, t_p, t_type = None, None, 'Skipped (non-normal)'\n",
    "        u_stat, u_p = mannwhitneyu(survived, died, alternative='two-sided')\n",
    "\n",
    "    # Save results\n",
    "    results[feature] = {\n",
    "        'Shapiro p (Survived)': round(p_normal_survived, 5),\n",
    "        'Shapiro p (Died)': round(p_normal_died, 5),\n",
    "        'Normality OK': normal,\n",
    "        'Levene p': round(p_levene, 5) if p_levene is not None else None,\n",
    "        'T-test type': t_type,\n",
    "        'T-test p': round(t_p, 5) if t_p is not None else None,\n",
    "        'Mann-Whitney p': round(u_p, 5) if u_p is not None else None\n",
    "    }\n",
    "\n",
    "# Display final results\n",
    "results_df = pd.DataFrame(results).T\n",
    "display(results_df)\n"
   ]
  },
  {
   "cell_type": "markdown",
   "id": "3bcebf6d-9bda-4db8-a9e3-2649c9f762c5",
   "metadata": {},
   "source": [
    "- For **mean, median**, and **first** potassium levels, the p-values from the tests indicate **no significant differences** between those who survived and those who died. These measurements do not seem to be strongly associated with death status during ICU.\n",
    "\n",
    "- For the **last potassium measurement & Max potassium**, the Welch's Mann-Whitney shows a **significant difference**, suggesting that **the last potassium measurement & Max potassium are linked to survival in the ICU.**"
   ]
  },
  {
   "cell_type": "code",
   "execution_count": 50,
   "id": "17cb0c06-b4a9-4ea3-8c82-f08da789cb27",
   "metadata": {},
   "outputs": [
    {
     "data": {
      "text/plain": [
       "<Figure size 2000x1500 with 0 Axes>"
      ]
     },
     "metadata": {},
     "output_type": "display_data"
    },
    {
     "data": {
      "image/png": "[encoded data removed]",
      "text/plain": [
       "<Figure size 640x480 with 1 Axes>"
      ]
     },
     "metadata": {},
     "output_type": "display_data"
    }
   ],
   "source": [
    "# Potassium Trend Patterns - first vs. last measurements\n",
    "ndf = pd.DataFrame()\n",
    "plt.figure(figsize=(20, 15))\n",
    "ndf['k_trend'] = df['last_potassium'] - df['first_potassium']\n",
    "ndf['k_trend_category'] = pd.cut(ndf['k_trend'], \n",
    "                                    bins=[-float('inf'), -0.5, 0.5, float('inf')],\n",
    "                                    labels=['Decreasing', 'Stable', 'Increasing'])\n",
    "outcome_trend = pd.crosstab(df['died_during_icu'], ndf['k_trend_category'], normalize='index') # normalize to create proportion\n",
    "outcome_trend.plot(kind='bar')\n",
    "plt.title('Potassium Trend Patterns by Outcome', fontsize=14)\n",
    "plt.xlabel(['ICU Outcome (0=Survived, 1=Died)'])\n",
    "plt.ylabel('Proportion')\n",
    "plt.legend(title='Trend:')\n",
    "plt.show();"
   ]
  },
  {
   "cell_type": "code",
   "execution_count": 51,
   "id": "47dc791e-bc06-4059-a883-b186c51c81f3",
   "metadata": {},
   "outputs": [
    {
     "data": {
      "text/html": [
       "<div>\n",
       "<style scoped>\n",
       "    .dataframe tbody tr th:only-of-type {\n",
       "        vertical-align: middle;\n",
       "    }\n",
       "\n",
       "    .dataframe tbody tr th {\n",
       "        vertical-align: top;\n",
       "    }\n",
       "\n",
       "    .dataframe thead th {\n",
       "        text-align: right;\n",
       "    }\n",
       "</style>\n",
       "<table border=\"1\" class=\"dataframe\">\n",
       "  <thead>\n",
       "    <tr style=\"text-align: right;\">\n",
       "      <th></th>\n",
       "      <th>Survived (Trend)</th>\n",
       "      <th>Died (Trend)</th>\n",
       "      <th>Survived (Other)</th>\n",
       "      <th>Died (Other)</th>\n",
       "      <th>P-value</th>\n",
       "    </tr>\n",
       "  </thead>\n",
       "  <tbody>\n",
       "    <tr>\n",
       "      <th>Decreasing</th>\n",
       "      <td>37.0</td>\n",
       "      <td>7.0</td>\n",
       "      <td>67.0</td>\n",
       "      <td>22.0</td>\n",
       "      <td>0.3500</td>\n",
       "    </tr>\n",
       "    <tr>\n",
       "      <th>Stable</th>\n",
       "      <td>52.0</td>\n",
       "      <td>10.0</td>\n",
       "      <td>52.0</td>\n",
       "      <td>19.0</td>\n",
       "      <td>0.2038</td>\n",
       "    </tr>\n",
       "    <tr>\n",
       "      <th>Increasing</th>\n",
       "      <td>15.0</td>\n",
       "      <td>12.0</td>\n",
       "      <td>89.0</td>\n",
       "      <td>17.0</td>\n",
       "      <td>0.0034</td>\n",
       "    </tr>\n",
       "  </tbody>\n",
       "</table>\n",
       "</div>"
      ],
      "text/plain": [
       "            Survived (Trend)  Died (Trend)  Survived (Other)  Died (Other)  \\\n",
       "Decreasing              37.0           7.0              67.0          22.0   \n",
       "Stable                  52.0          10.0              52.0          19.0   \n",
       "Increasing              15.0          12.0              89.0          17.0   \n",
       "\n",
       "            P-value  \n",
       "Decreasing   0.3500  \n",
       "Stable       0.2038  \n",
       "Increasing   0.0034  "
      ]
     },
     "metadata": {},
     "output_type": "display_data"
    },
    {
     "name": "stdout",
     "output_type": "stream",
     "text": [
      "Decreasing: p = 0.35 → Not Significant\n",
      "Stable: p = 0.2038 → Not Significant\n",
      "Increasing: p = 0.0034 → Significant\n"
     ]
    }
   ],
   "source": [
    "chi_results = {}\n",
    "# Loop over each potassium trend category\n",
    "for trend in ndf['k_trend_category'].unique():\n",
    "    selected = (ndf['k_trend_category'] == trend)\n",
    "    other = ~selected\n",
    "\n",
    "    # Create 2x2 contingency table: rows = trend vs not trend, columns = survived/died\n",
    "    survived_trend = ((df['died_during_icu'] == 0) & selected).sum()\n",
    "    died_trend = ((df['died_during_icu'] == 1) & selected).sum()\n",
    "    survived_other = ((df['died_during_icu'] == 0) & other).sum()\n",
    "    died_other = ((df['died_during_icu'] == 1) & other).sum()\n",
    "\n",
    "    table = [[survived_trend, died_trend],\n",
    "             [survived_other, died_other]]\n",
    "\n",
    "    chi2, p, dof, expected = chi2_contingency(table)\n",
    "\n",
    "    # Save results\n",
    "    chi_results[trend] = {\n",
    "        'Survived (Trend)': survived_trend,\n",
    "        'Died (Trend)': died_trend,\n",
    "        'Survived (Other)': survived_other,\n",
    "        'Died (Other)': died_other,\n",
    "        'P-value': round(p, 4)\n",
    "    }\n",
    "\n",
    "# Display results\n",
    "chi_df = pd.DataFrame(chi_results).T\n",
    "display(chi_df)\n",
    "\n",
    "# Summary printout\n",
    "for trend, row in chi_df.iterrows():\n",
    "    sig = 'Significant' if row['P-value'] < 0.05 else 'Not Significant'\n",
    "    print(f\"{trend}: p = {row['P-value']} → {sig}\")\n"
   ]
  },
  {
   "cell_type": "markdown",
   "id": "72fcc530-aa1a-4e9e-8e55-e44885c9e82c",
   "metadata": {},
   "source": [
    "Based on the Chi-Square test results, only the Increasing potassium trend showed a statistically significant association with ICU mortality, indicating that patients with rising potassium levels were more likely to die. The Stable and Decreasing trends did not demonstrate a significant relationship with survival outcome.\n",
    "\n",
    "\n",
    "\n",
    "\n"
   ]
  },
  {
   "cell_type": "markdown",
   "id": "fdf0953b-0173-409a-a7d3-b8c6cb3068ec",
   "metadata": {},
   "source": [
    "---"
   ]
  },
  {
   "cell_type": "markdown",
   "id": "424c9fa4-a53c-40fc-8e8f-952f3bd38490",
   "metadata": {},
   "source": [
    "## Summary "
   ]
  },
  {
   "cell_type": "markdown",
   "id": "61ee0087-35da-422e-b6d2-929cd9e506df",
   "metadata": {},
   "source": [
    "### What variables were found to be significant predictors of mortality? "
   ]
  },
  {
   "cell_type": "markdown",
   "id": "8c9d7133-b438-489d-80e2-31382f232688",
   "metadata": {},
   "source": [
    "Several variables were found to be significantly associated with ICU mortality:\n",
    "\n",
    "1. Potassium Trend (Increasing) – Patients whose potassium levels increased during their ICU stay had significantly higher mortality rates.\n",
    "This was confirmed by both Fisher’s Exact Test and Chi-Square Test (p < 0.05).\n",
    "\n",
    "2. Last Potassium Level – Showed a moderate positive correlation with ICU death (r ≈ 0.42), and the difference between survivors and non-survivors was statistically significant.\n",
    "\n",
    "3. Max Potassium Level – Also positively correlated with death (r ≈ 0.31), and showed significant group differences in non-parametric tests."
   ]
  },
  {
   "cell_type": "markdown",
   "id": "29b6b02b-c86c-4f60-8713-5b4f9f154535",
   "metadata": {},
   "source": [
    "### Are there any unusual data that may affect the results of the study? "
   ]
  },
  {
   "cell_type": "markdown",
   "id": "714d52c3-b4d5-4afd-abd1-58b0bce54872",
   "metadata": {},
   "source": [
    "Yes. One important issue is that some patients appear multiple times in the dataset (i.e., they were admitted more than once). Since many of their physiological values remain similar across admissions, this repetition can introduce data duplication bias, especially in models that assume independent observations.\n",
    "\n",
    "In addition, as shown in the exploratory analysis, there are several extreme values in potassium measurements (e.g., unusually high max or last potassium levels). These outliers were handled by removing only survivors with extreme values to minimize distortion of mortality comparisons.\n",
    "\n",
    "\n"
   ]
  },
  {
   "cell_type": "markdown",
   "id": "781e5fbd-9f04-4ee3-b503-5cfb2520bb67",
   "metadata": {},
   "source": [
    "### What other actions can be performed to improve the surgery or to test additional hypotheses? "
   ]
  },
  {
   "cell_type": "markdown",
   "id": "357b3b8e-3034-4dd0-b058-eaed0dd08944",
   "metadata": {},
   "source": [
    "Adding more clinical variables (e.g., additional lab tests or vital signs) could help uncover deeper associations and improve the overall analysis. Moreover, some subgroups in the data were very small, making it difficult to draw statistically meaningful conclusions — increasing the dataset, especially for underrepresented groups, would greatly enhance result validity.\n",
    "\n",
    "\n",
    "\n",
    "\n",
    "\n",
    "\n",
    "\n"
   ]
  },
  {
   "cell_type": "markdown",
   "id": "9ba6106e-b7e9-4393-857d-7ce4dbb92a9a",
   "metadata": {},
   "source": [
    "## Thank you ! :)"
   ]
  },
  {
   "cell_type": "code",
   "execution_count": null,
   "id": "af601bdd-4b25-4777-a993-1c180a937c86",
   "metadata": {},
   "outputs": [],
   "source": []
  }
 ],
 "metadata": {
  "kernelspec": {
   "display_name": "Python 3 (ipykernel)",
   "language": "python",
   "name": "python3"
  },
  "language_info": {
   "codemirror_mode": {
    "name": "ipython",
    "version": 3
   },
   "file_extension": ".py",
   "mimetype": "text/x-python",
   "name": "python",
   "nbconvert_exporter": "python",
   "pygments_lexer": "ipython3",
   "version": "3.12.4"
  }
 },
 "nbformat": 4,
 "nbformat_minor": 5
}
